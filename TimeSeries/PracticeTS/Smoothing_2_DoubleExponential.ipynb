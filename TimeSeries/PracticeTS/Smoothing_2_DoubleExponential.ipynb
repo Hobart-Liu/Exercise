{
 "cells": [
  {
   "cell_type": "markdown",
   "metadata": {},
   "source": [
    "In general, we will need to keep track of\n",
    "- Levels, with parameter “alpha”, 𝛼\n",
    "- Trend, with parameter “beta”, 𝛽\n",
    "- Seasonal Component , with parameter “gamma”, 𝛾"
   ]
  },
  {
   "cell_type": "markdown",
   "metadata": {},
   "source": [
    "Recall our equations for forecasting:\n",
    "\n",
    "$$ level_n = \\alpha x_n + (1-\\alpha)(level_{n-1} + trend_{n-1})$$  \n",
    "$$ trend_n = \\beta (level_n - level_{n-1}) + (1 - \\beta) trend_{n-1} $$  \n",
    "$$ \\hat x_{n+h} = level_n + h * trend_n $$  \n",
    "\n",
    "\n",
    "Let's look at the data set _austres_, which describes the Numbers (in thousands) of Australian residents measured quarterly from March 1971 to March 1994,.   \n",
    "Note that the routine uses the notation $level_n = a$ and $ trend_n = b$\n"
   ]
  },
  {
   "cell_type": "code",
   "execution_count": 1,
   "metadata": {},
   "outputs": [
    {
     "data": {
      "text/plain": [
       "Holt-Winters exponential smoothing with trend and without seasonal component.\n",
       "\n",
       "Call:\n",
       "HoltWinters(x = austres, gamma = FALSE)\n",
       "\n",
       "Smoothing parameters:\n",
       " alpha: 1\n",
       " beta : 0.4062519\n",
       " gamma: FALSE\n",
       "\n",
       "Coefficients:\n",
       "        [,1]\n",
       "a 17661.5000\n",
       "b    43.2471"
      ]
     },
     "metadata": {},
     "output_type": "display_data"
    }
   ],
   "source": [
    "HoltWinters(austres, gamma=FALSE)"
   ]
  },
  {
   "cell_type": "markdown",
   "metadata": {},
   "source": [
    "### Interprete output. \n",
    "The output from the Holt Winters routine gives us  \n",
    "$ level_n = a = 17661.5 $  \n",
    "$ trend_n = b = 43.2471 $  \n",
    "\n",
    "forecast should be a + b"
   ]
  },
  {
   "cell_type": "code",
   "execution_count": 3,
   "metadata": {},
   "outputs": [
    {
     "data": {
      "text/html": [
       "17704.7471"
      ],
      "text/latex": [
       "17704.7471"
      ],
      "text/markdown": [
       "17704.7471"
      ],
      "text/plain": [
       "[1] 17704.75"
      ]
     },
     "metadata": {},
     "output_type": "display_data"
    }
   ],
   "source": [
    "17661.5+43.2471"
   ]
  },
  {
   "cell_type": "markdown",
   "metadata": {},
   "source": [
    "#### Double check"
   ]
  },
  {
   "cell_type": "code",
   "execution_count": 2,
   "metadata": {},
   "outputs": [
    {
     "name": "stdout",
     "output_type": "stream",
     "text": [
      "17704.75"
     ]
    }
   ],
   "source": [
    "#set up our transformed data and smoothing parameters\n",
    "data = austres\n",
    "N = length(data)\n",
    "alpha = 1\n",
    "beta = 0.4062519\n",
    "##prepare empty arrays so we can store values\n",
    "forecast = NULL\n",
    "level = NULL\n",
    "trend = NULL\n",
    "#initialize level and trend in a very simple way\n",
    "level[1] = data [1]\n",
    "trend[1] = data [2]- data [1]\n",
    "#initialize forecast to get started\n",
    "forecast[1] = data [1]\n",
    "forecast[2] = data [2]\n",
    "\n",
    "for( n in 2:N ) {\n",
    "  level[n] = alpha * data [n] + (1-alpha)*(level[n-1]+trend[n-1])\n",
    "  trend[n] = beta*(level[n] - level[n-1]) + (1-beta)*trend[n-1]\n",
    "  forecast[n+1] = level[n] + trend[n]\n",
    "}\n",
    "\n",
    "cat(forecast[N+1])"
   ]
  },
  {
   "cell_type": "code",
   "execution_count": null,
   "metadata": {},
   "outputs": [],
   "source": []
  }
 ],
 "metadata": {
  "kernelspec": {
   "display_name": "R",
   "language": "R",
   "name": "ir"
  },
  "language_info": {
   "codemirror_mode": "r",
   "file_extension": ".r",
   "mimetype": "text/x-r-source",
   "name": "R",
   "pygments_lexer": "r",
   "version": "3.6.3"
  }
 },
 "nbformat": 4,
 "nbformat_minor": 2
}
