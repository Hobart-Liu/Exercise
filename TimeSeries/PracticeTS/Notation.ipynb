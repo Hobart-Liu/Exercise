{
 "cells": [
  {
   "cell_type": "markdown",
   "metadata": {},
   "source": [
    "$$ \\gamma(s,t) = cov(X_s, X_t) $$"
   ]
  },
  {
   "cell_type": "markdown",
   "metadata": {},
   "source": [
    "$$ \\gamma(t, t) =  Var(X_t) = \\sigma_t^2$$"
   ]
  },
  {
   "cell_type": "markdown",
   "metadata": {},
   "source": [
    "$$ \\gamma_k = \\gamma(t, t+k) = cov(X_t, X_{t+k}) \\approx c_k $$"
   ]
  },
  {
   "cell_type": "markdown",
   "metadata": {},
   "source": [
    "$c_k$ is an estimation of $\\gamma_k$"
   ]
  },
  {
   "cell_type": "markdown",
   "metadata": {},
   "source": [
    "$$ c_k = \\frac{\\sum_{t=1}^{N-k}{(x_t-\\bar x)(x_{t+k}-\\bar x)}}{N} $$"
   ]
  },
  {
   "cell_type": "markdown",
   "metadata": {},
   "source": [
    "where"
   ]
  },
  {
   "cell_type": "markdown",
   "metadata": {},
   "source": [
    "$$\\bar x = \\frac{\\sum_{t=1}^{N}{x_t}}{N} $$"
   ]
  },
  {
   "cell_type": "markdown",
   "metadata": {},
   "source": [
    "$$ -1 \\leq \\rho_k = \\frac{\\gamma_k}{\\gamma_0} \\leq 1$$"
   ]
  },
  {
   "cell_type": "markdown",
   "metadata": {},
   "source": [
    "$$\\gamma_k = \\frac{c_k}{c_0} = \\frac{\\sum_{t=1}^{N-k}{(x_t-\\bar x)(x_{t+k}-\\bar x)}}{\\sum_{t=1}^{N}{(x_t - \\bar x)^2}} $$"
   ]
  },
  {
   "cell_type": "code",
   "execution_count": null,
   "metadata": {},
   "outputs": [],
   "source": []
  }
 ],
 "metadata": {
  "kernelspec": {
   "display_name": "R",
   "language": "R",
   "name": "ir"
  },
  "language_info": {
   "codemirror_mode": "r",
   "file_extension": ".r",
   "mimetype": "text/x-r-source",
   "name": "R",
   "pygments_lexer": "r",
   "version": "3.6.3"
  }
 },
 "nbformat": 4,
 "nbformat_minor": 2
}
