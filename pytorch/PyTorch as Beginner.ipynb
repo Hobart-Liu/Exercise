{
 "cells": [
  {
   "cell_type": "code",
   "execution_count": 1,
   "metadata": {},
   "outputs": [],
   "source": [
    "import torch\n",
    "import numpy as np"
   ]
  },
  {
   "cell_type": "markdown",
   "metadata": {},
   "source": [
    "## Torch Tensor & Numy Bridge"
   ]
  },
  {
   "cell_type": "code",
   "execution_count": 2,
   "metadata": {},
   "outputs": [
    {
     "name": "stdout",
     "output_type": "stream",
     "text": [
      "tensor([5.5000, 3.0000])\n",
      "tensor([[0.1478, 0.7989, 0.6090],\n",
      "        [0.1093, 0.9381, 0.7433]])\n",
      "tensor([[0, 0, 0],\n",
      "        [0, 0, 0]])\n",
      "tensor([[ 0.0000e+00, -2.0000e+00,  2.3805e+11],\n",
      "        [ 8.5920e+09,  4.0419e-16,  4.5880e-41]])\n"
     ]
    }
   ],
   "source": [
    "print(torch.tensor([5.5, 3]))\n",
    "print(torch.rand(2, 3))\n",
    "print(torch.zeros(2, 3, dtype=torch.long))\n",
    "print(torch.empty(2, 3))"
   ]
  },
  {
   "cell_type": "code",
   "execution_count": 3,
   "metadata": {},
   "outputs": [
    {
     "name": "stdout",
     "output_type": "stream",
     "text": [
      "tensor([[1., 1., 1.],\n",
      "        [1., 1., 1.]], dtype=torch.float64)\n",
      "tensor([[ 0.8423,  1.8473, -0.5657],\n",
      "        [ 0.7424, -0.1076, -0.0094]])\n",
      "torch.Size([2, 3])\n",
      "2 3\n"
     ]
    }
   ],
   "source": [
    "x = torch.tensor([5.5, 3])\n",
    "x = x.new_ones(2, 3, dtype=torch.double)\n",
    "print(x)\n",
    "x = torch.randn_like(x, dtype=torch.float)\n",
    "print(x)\n",
    "print(x.size())\n",
    "m, n = x.size()\n",
    "print(m, n)"
   ]
  },
  {
   "cell_type": "code",
   "execution_count": 4,
   "metadata": {},
   "outputs": [
    {
     "name": "stdout",
     "output_type": "stream",
     "text": [
      "tensor([[0.2314, 0.6082, 0.3992],\n",
      "        [0.5058, 0.6662, 0.5075]]) \n",
      " tensor([[0.1890, 0.3824, 0.1145],\n",
      "        [0.6233, 0.3432, 0.6310]]) \n",
      " tensor([[0.4205, 0.9906, 0.5137],\n",
      "        [1.1290, 1.0094, 1.1385]]) \n",
      " tensor([[0.4205, 0.9906, 0.5137],\n",
      "        [1.1290, 1.0094, 1.1385]])\n"
     ]
    }
   ],
   "source": [
    "y = torch.rand(2, 3)\n",
    "x = torch.rand(2, 3)\n",
    "result = torch.empty(2, 3)\n",
    "result = torch.add(x, y, out=result)\n",
    "print(x,'\\n', y, '\\n', x+y, '\\n', result)"
   ]
  },
  {
   "cell_type": "code",
   "execution_count": 5,
   "metadata": {},
   "outputs": [
    {
     "name": "stdout",
     "output_type": "stream",
     "text": [
      "tensor([[0.4205, 0.9906, 0.5137],\n",
      "        [1.1290, 1.0094, 1.1385]])\n"
     ]
    }
   ],
   "source": [
    "y.add_(x) # add x to y\n",
    "print(y)  # check with result printing in previous box"
   ]
  },
  {
   "cell_type": "code",
   "execution_count": 6,
   "metadata": {},
   "outputs": [
    {
     "name": "stdout",
     "output_type": "stream",
     "text": [
      "tensor([[1, 2],\n",
      "        [1, 2]])\n"
     ]
    }
   ],
   "source": [
    "x = torch.tensor([[1, 2, 3], [1, 2, 3]])\n",
    "print(x[:, 0:2])"
   ]
  },
  {
   "cell_type": "code",
   "execution_count": 7,
   "metadata": {},
   "outputs": [
    {
     "name": "stdout",
     "output_type": "stream",
     "text": [
      "torch.Size([16])\n",
      "torch.Size([2, 8])\n"
     ]
    }
   ],
   "source": [
    "x = torch.randn(4, 4)\n",
    "print(x.view(16).size())\n",
    "print(x.view(-1, 8).size())"
   ]
  },
  {
   "cell_type": "code",
   "execution_count": 8,
   "metadata": {},
   "outputs": [
    {
     "name": "stdout",
     "output_type": "stream",
     "text": [
      "[[0 1 2]\n",
      " [3 4 5]] \n",
      " tensor([[0, 1, 2],\n",
      "        [3, 4, 5]]) \n",
      " [[0 1 2]\n",
      " [3 4 5]]\n"
     ]
    }
   ],
   "source": [
    "np_data = np.arange(6).reshape(2, 3)\n",
    "torch_data = torch.from_numpy(np_data)\n",
    "np_data2 = torch_data.numpy()\n",
    "print(np_data, '\\n', torch_data, '\\n', np_data2)"
   ]
  },
  {
   "cell_type": "markdown",
   "metadata": {},
   "source": [
    "## Autograd\n",
    "\n",
    "Central to all neural networks in PyTorch is the autograd package. torch.Tensor is the central class of the package. "
   ]
  },
  {
   "cell_type": "markdown",
   "metadata": {},
   "source": [
    "*Tensor* “$o$”.\n",
    "We have that   \n",
    "$o = \\frac{1}{4}\\sum_i z_i$,  \n",
    "\n",
    "$z_i = 3(x_i+2)^2$.  \n",
    "\n",
    "$\\frac{\\partial o}{\\partial x_i} = \\frac{3}{2}(x_i+2)$  \n",
    "\n",
    "$\\frac{\\partial o}{\\partial x_i}\\bigr\\rvert_{x_i=1} = \\frac{9}{2} = 4.5$."
   ]
  },
  {
   "cell_type": "code",
   "execution_count": 9,
   "metadata": {},
   "outputs": [
    {
     "name": "stdout",
     "output_type": "stream",
     "text": [
      "tensor([[4.5000, 4.5000],\n",
      "        [4.5000, 4.5000]])\n"
     ]
    }
   ],
   "source": [
    "x = torch.ones(2, 2, requires_grad=True)\n",
    "y = x + 2\n",
    "z = y * y * 3\n",
    "out = z.mean()\n",
    "out.backward()\n",
    "print(x.grad)"
   ]
  },
  {
   "cell_type": "markdown",
   "metadata": {},
   "source": [
    "Printing variables, please note below terms:  \n",
    "- rquires_grad\n",
    "- grad_fn"
   ]
  },
  {
   "cell_type": "code",
   "execution_count": 11,
   "metadata": {
    "scrolled": true
   },
   "outputs": [
    {
     "name": "stdout",
     "output_type": "stream",
     "text": [
      "tensor([[1., 1.],\n",
      "        [1., 1.]], requires_grad=True) \n",
      " tensor([[3., 3.],\n",
      "        [3., 3.]], grad_fn=<AddBackward0>) \n",
      " tensor([[27., 27.],\n",
      "        [27., 27.]], grad_fn=<MulBackward0>) \n",
      " tensor(27., grad_fn=<MeanBackward1>)\n"
     ]
    }
   ],
   "source": [
    "print(x, '\\n', y, '\\n',z, '\\n',out)"
   ]
  },
  {
   "cell_type": "markdown",
   "metadata": {},
   "source": [
    "## Left over: Jacobian matrix  \n",
    "Don't fully understand Jacobian Matrix and how it is used in pytorch. :-("
   ]
  },
  {
   "cell_type": "code",
   "execution_count": null,
   "metadata": {},
   "outputs": [],
   "source": []
  }
 ],
 "metadata": {
  "kernelspec": {
   "display_name": "Python 3",
   "language": "python",
   "name": "python3"
  },
  "language_info": {
   "codemirror_mode": {
    "name": "ipython",
    "version": 3
   },
   "file_extension": ".py",
   "mimetype": "text/x-python",
   "name": "python",
   "nbconvert_exporter": "python",
   "pygments_lexer": "ipython3",
   "version": "3.6.5"
  }
 },
 "nbformat": 4,
 "nbformat_minor": 2
}
