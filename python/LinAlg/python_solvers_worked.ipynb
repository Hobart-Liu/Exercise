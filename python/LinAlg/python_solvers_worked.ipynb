{
 "cells": [
  {
   "cell_type": "markdown",
   "metadata": {},
   "source": [
    "# Solving equations"
   ]
  },
  {
   "cell_type": "code",
   "execution_count": 52,
   "metadata": {},
   "outputs": [],
   "source": [
    "import numpy as np\n",
    "import matplotlib.pyplot as plt\n",
    "%matplotlib inline\n",
    "from scipy.integrate import quad\n",
    "from scipy.interpolate import interp1d\n",
    "from scipy.optimize import curve_fit, fsolve"
   ]
  },
  {
   "cell_type": "markdown",
   "metadata": {},
   "source": [
    "## Review: linear equations\n",
    "To solve a system $Ax=b$ for x, we do the following:\n",
    "* Define the matrix $A$ and the array $b$.\n",
    "* Use x = np.linalg.solve(A,b)\n",
    "\n",
    "**Example**\n",
    "\n",
    "Solve \n",
    "$$\\left[\n",
    "\\begin{array}[ccccc]\n",
    "--2 & 1  & 0 & 0 & 0 \\\\\n",
    "1  & -2 & 1 & 0 & 0 \\\\\n",
    "0  &  1 & -2& 1 & 0 \\\\\n",
    "0  &  0 & 1 & -2& 1 \\\\\n",
    "0  &  0 & 0 & 1 & -2\n",
    "\\end{array}\n",
    "\\right]\\cdot\n",
    "\\left[\n",
    "\\begin{array}[c] \\\\x_0\\\\x_1\\\\x_2\\\\x_2\\\\x_4\\end{array}\\right] = \n",
    "\\left[\\begin{array}[c] \\\\1\\\\1\\\\1\\\\1\\\\1\\end{array}\\right]$$\n"
   ]
  },
  {
   "cell_type": "code",
   "execution_count": 53,
   "metadata": {},
   "outputs": [
    {
     "name": "stdout",
     "output_type": "stream",
     "text": [
      "x =  [-2.5 -4.  -4.5 -4.  -2.5]\n"
     ]
    }
   ],
   "source": [
    "A = np.array([[-2,1,0,0,0],[1,-2,1,0,0],[0,1,-2,1,0],[0,0,1,-2,1],[0,0,0,1,-2]])\n",
    "b = np.ones(5)\n",
    "\n",
    "x = np.linalg.solve(A,b)\n",
    "\n",
    "print(\"x = \", x)"
   ]
  },
  {
   "cell_type": "markdown",
   "metadata": {},
   "source": [
    "Here's a [link](http://docs.scipy.org/doc/numpy/reference/routines.linalg.html) to more linear algebra operations."
   ]
  },
  {
   "cell_type": "markdown",
   "metadata": {},
   "source": [
    "## Nonlinear equations\n",
    "### 1-D equations (1 equation in 1 unknown)."
   ]
  },
  {
   "cell_type": "markdown",
   "metadata": {},
   "source": [
    "Solving a nonlinear equation involves first putting it in the form $f(x)=0$. We know the function $f$ and we want to find the value of $x$ that gives $f(x)=0$.\n",
    "\n",
    "To solve this, do the following:\n",
    "* Define the function f(x)\n",
    "* Set an initial guess for x.\n",
    "* We need to import a library: ```from scipy.optimize import fsolve```\n",
    "* Call the ```fsolve``` function: ```x = fsolve(f, x0)```\n",
    "    * f is the name of the function you are solving, and x0 is your initial guess.\n",
    "    \n"
   ]
  },
  {
   "cell_type": "markdown",
   "metadata": {},
   "source": [
    "### Exercise\n",
    "\n",
    "Solve for both roots of $$f(x) = x^2-5.$$"
   ]
  },
  {
   "cell_type": "code",
   "execution_count": 54,
   "metadata": {},
   "outputs": [
    {
     "name": "stdout",
     "output_type": "stream",
     "text": [
      "[ 2.23606798] [-2.23606798]\n"
     ]
    }
   ],
   "source": [
    "\n",
    "def f(x):\n",
    "    return x**2 - 5\n",
    "\n",
    "xguess_1 = 1.0\n",
    "x1 = fsolve(f,xguess_1)\n",
    "\n",
    "xguess_2 = -1.0\n",
    "x2 = fsolve(f,xguess_2)\n",
    "\n",
    "print(x1, x2)"
   ]
  },
  {
   "cell_type": "markdown",
   "metadata": {},
   "source": [
    "### Note\n",
    "* ```fsolve``` returns an array of solutions.\n",
    "* This is because ```fsolve``` can be used to find the solution to multiple equations in multiple unknowns.\n",
    "* If you just have one equation in one unknown, they you can recover just the scalar answer instead of the array:\n",
    "    * ```x = fsolve(f, xguess)[0]```"
   ]
  },
  {
   "cell_type": "markdown",
   "metadata": {},
   "source": [
    "### Multiple equations in multiple unknowns\n",
    "* We call this a *multi-dimensional* problem.\n",
    "* Instead of $f(x)=0$, we solve\n",
    "* $\\vec{f}(\\vec{x})=\\vec{0}$.\n",
    "    * That is, $\\vec{x}$ is a vector of unknowns, and $\\vec{f}$ is a vector of functions.\n",
    "    * $\\vec{f}(\\vec{x})$ takes a vector $\\vec{x}$, and returns a vector $\\vec{f}$.\n"
   ]
  },
  {
   "cell_type": "markdown",
   "metadata": {},
   "source": [
    "### Details\n",
    "\n",
    "* Consider solving the **two functions** for the **two unknowns**: $h(y,z) = 0$, and $g(y,z)=0$.\n",
    "* We might have $$h(y,z)=y+2z,$$ $$g(y,z) = \\sin(y)/z$$\n",
    "* For computer solvers, we write using a generic, standard notation. \n",
    "    * *<font color=red>We want all solvers to look like $f(x)=0.$</font>*\n",
    "* We would write these as $$f_0(x_0,x_1) = x_0+2x_1,$$ $$f_1(x_0,x_1) = \\sin(x_0)/x_1,$$\n",
    "which becomes: $$\\left[\\begin{matrix} f_0(x_0,x_1) \\\\ f_1(x_0,x_1)\\end{matrix}\\right] = \\left[\\begin{matrix}x_0+2x_1 \\\\ \\sin(x_0)/x_1\\end{matrix}\\right] = \\left[\\begin{matrix}0 \\\\ 0\\end{matrix}\\right],$$\n",
    "or $$\\vec{f}(\\vec{x}) = \\left[\\begin{matrix}x_0+2x_1 \\\\ \\sin(x_0)/x_1\\end{matrix}\\right] = \\vec{0},$$\n",
    "that is, $$\\vec{f}(\\vec{x})=\\vec{0}.$$\n",
    "\n",
    "* We solve the system just like before:\n",
    "    * Just define the vector function. It takes an array of unknowns $\\vec{x}$, and returns an array of function values $\\vec{f}$.\n",
    "    * We use the same solver, but we give an array of initial guesses $\\vec{x}_0$.\n"
   ]
  },
  {
   "cell_type": "markdown",
   "metadata": {},
   "source": [
    "**Note** Here is a [link](http://docs.scipy.org/doc/scipy/reference/generated/scipy.optimize.fsolve.html) to more information about the fsolve function with extra arguments that can give more control over the solution process."
   ]
  },
  {
   "cell_type": "markdown",
   "metadata": {},
   "source": [
    "### Exercise\n",
    "* Solve the following two equations in two unknowns.\n",
    "$$h(y,z)=y+2z,$$ \n",
    "$$g(y,z) = \\sin(y)/z.$$\n",
    "* Use $y_0=1$, and $z_0=2$ as an initial guess."
   ]
  },
  {
   "cell_type": "code",
   "execution_count": 55,
   "metadata": {},
   "outputs": [
    {
     "name": "stdout",
     "output_type": "stream",
     "text": [
      "y=-2.5000, z=-4.0000\n"
     ]
    }
   ],
   "source": [
    "def hg(yz):\n",
    "    \n",
    "    y = yz[0]                 # recover the vars for convenience\n",
    "    z = yz[1]\n",
    "    \n",
    "    h = y + 2*z              # compute the function values\n",
    "    g = np.sin(y)/z\n",
    "    \n",
    "    return np.array([h, g])  # return array of function values\n",
    "\n",
    "#---------------------------------\n",
    "\n",
    "yzGuess = np.array([1,2])\n",
    "yz = fsolve(hg, yzGuess)\n",
    "y = x[0]\n",
    "z = x[1]\n",
    "print(f\"y={y:.4f}, z={z:.4f}\")"
   ]
  },
  {
   "cell_type": "markdown",
   "metadata": {},
   "source": [
    "### Excercise\n",
    "\n",
    "Solve the following system of three equations in three unknowns:\n",
    "\n",
    "$$x^2 + y^2 = 1,$$\n",
    "$$xy + yz = -1.1,$$\n",
    "$$y^2 + z^2 = 2.$$\n",
    "\n",
    "A reasonable guess for all variables is $x=y=z=2.$\n"
   ]
  },
  {
   "cell_type": "code",
   "execution_count": 56,
   "metadata": {},
   "outputs": [
    {
     "name": "stdout",
     "output_type": "stream",
     "text": [
      "x=0.10056, y=-0.99493, z=1.00504\n"
     ]
    }
   ],
   "source": [
    "def funcs(xyz):\n",
    "    x = xyz[0]\n",
    "    y = xyz[1]\n",
    "    z = xyz[2]\n",
    "    \n",
    "    eq0 = x**2 + y**2 - 1\n",
    "    eq1 = x*y + y*z   + 1.1\n",
    "    eq2 = y**2 + z**2 - 2\n",
    "    \n",
    "    return np.array([eq0, eq1, eq2])\n",
    "\n",
    "xyzGuess = np.array([2,2,2])\n",
    "xyz = fsolve(funcs, xyzGuess)\n",
    "x = xyz[0]\n",
    "y = xyz[1]\n",
    "z = xyz[2]\n",
    "\n",
    "print(f'x={x:.5f}, y={y:.5f}, z={z:.5f}')"
   ]
  },
  {
   "cell_type": "markdown",
   "metadata": {},
   "source": [
    "### Exercise\n",
    "\n",
    "The Colbrook equation is used to compute pressure drops across pipes, and therefore to compute pumping requirements and costs.\n",
    "\n",
    "The Colebrook equation is given by\n",
    "$$\\frac{1}{\\sqrt{f}} = -2\\log_{10}\\left(\\frac{\\epsilon/D}{3.7}+\\frac{2.51}{Re\\sqrt{f}}\\right),$$\n",
    "or,\n",
    "$$F(f, Re, \\epsilon/D) = \\frac{1}{\\sqrt{f}} + 2\\log_{10}\\left(\\frac{\\epsilon/D}{3.7}+\\frac{2.51}{Re\\sqrt{f}}\\right)=0.$$\n",
    "\n",
    "* Solve the Colbrook equation for $f$, for each $Re$ listed below, for the given single value of $\\epsilon/D$.  \n",
    "* Plot the result of $f(Re)$ with $Re$ on a log scale.\n",
    "\n",
    "**Approach**\n",
    "* Remember to start simple, then add more functionality.\n",
    "* Verify results at each step.\n",
    "* Question: what are the different parts required?\n",
    "* Question: What is a useful, basic thing to start with?\n",
    "* Question: Should you start with a loop, or a plot, or a function, or the solver...\n"
   ]
  },
  {
   "cell_type": "code",
   "execution_count": 57,
   "metadata": {},
   "outputs": [],
   "source": [
    "Re     = np.logspace(3,8,1000)\n",
    "epsD   = 0.001\n",
    "fguess = 0.01"
   ]
  },
  {
   "cell_type": "code",
   "execution_count": 58,
   "metadata": {},
   "outputs": [
    {
     "data": {
      "image/png": "[encoded data removed]",
      "text/plain": [
       "<Figure size 432x288 with 1 Axes>"
      ]
     },
     "metadata": {},
     "output_type": "display_data"
    }
   ],
   "source": [
    "def F(f, Re, epsD):\n",
    "    return 1/np.sqrt(f) + 2.0*np.log10(epsD/3.7 + 2.51/Re/np.sqrt(f))\n",
    "\n",
    "f = np.zeros(len(Re))\n",
    "for i in range(len(f)):\n",
    "    f[i] = fsolve(F, fguess, args=(Re[i], epsD))[0]\n",
    "    \n",
    "#---------- Plot \n",
    "\n",
    "plt.rc(\"font\", size=14)\n",
    "plt.plot(Re,f)\n",
    "plt.xscale(\"log\")\n",
    "plt.xlabel(\"Re\")\n",
    "plt.ylabel(\"f\");\n",
    "    "
   ]
  },
  {
   "cell_type": "markdown",
   "metadata": {
    "collapsed": true
   },
   "source": [
    "## ```args``` and tuple expansion\n",
    "\n",
    "* Functions like ```fsolve```, ```quad``` and others have an argument called ```args``` that you can set to have those functions pass extra arguments to the function provide.\n",
    "* But ```fsolve``` and ```quad``` (etc.) don't know how many arguments there are, and there could be an arbitrary number.\n",
    "* **Tuple expansion to the rescue!**"
   ]
  },
  {
   "cell_type": "markdown",
   "metadata": {},
   "source": [
    "### Example 1\n",
    "* Below, function ```f``` can take any number of arguments.\n",
    "* ```args``` is a tuple, and the ```*``` part of ```*args``` can be thought of as **collapsing** the provided list of arguments into the tuple ```args```. \n",
    "    * The name ```args``` doesn't matter. It can be anything.\n",
    "* You can then loop over the elements of ```args```."
   ]
  },
  {
   "cell_type": "code",
   "execution_count": 59,
   "metadata": {},
   "outputs": [
    {
     "name": "stdout",
     "output_type": "stream",
     "text": [
      "(1.1, 2.2, 3.3)\n",
      "1.1\n",
      "2.2\n",
      "3.3\n"
     ]
    }
   ],
   "source": [
    "def f(*args):\n",
    "    print(args)        # args is a tuple\n",
    "    for arg in args:   # loop over elements of args\n",
    "        print(arg)\n",
    "    \n",
    "f(1.1, 2.2, 3.3)       # call the func with multiple arguments"
   ]
  },
  {
   "cell_type": "markdown",
   "metadata": {},
   "source": [
    "### Example 2\n",
    "\n",
    "* Below, function ```f``` takes three arguments.\n",
    "* When calling the function, we first make a tuple with three elements,\n",
    "* Then we **expand** the tuple into values using ```*xyz```. \n",
    "    * The ```*``` part of ```*xyz``` acts to **expand** the tuple into elements that are then placed in the individual arguments that the function takes."
   ]
  },
  {
   "cell_type": "code",
   "execution_count": 60,
   "metadata": {},
   "outputs": [
    {
     "name": "stdout",
     "output_type": "stream",
     "text": [
      "1.1\n",
      "2.2\n",
      "3.3\n"
     ]
    }
   ],
   "source": [
    "def f(x,y,z):\n",
    "    print(x)\n",
    "    print(y)\n",
    "    print(z)\n",
    "    \n",
    "xyz = (1.1, 2.2, 3.3)\n",
    "f(*xyz)"
   ]
  },
  {
   "cell_type": "markdown",
   "metadata": {},
   "source": [
    "### Example 3\n",
    "* Write my own version of ```quad``` that uses the trapazoid method, and passes in extra arguments that my function will need.\n",
    "* See the line ```fx = f(x, *args)``` where the tuple of ```args``` I pass in to ```myQuad``` is expanded into the coefficients ```c0```, ```c1```, and ```c2``` of my quadratic function, defined below."
   ]
  },
  {
   "cell_type": "code",
   "execution_count": 63,
   "metadata": {},
   "outputs": [
    {
     "name": "stdout",
     "output_type": "stream",
     "text": [
      "15.4004489338\n"
     ]
    }
   ],
   "source": [
    "def myQuad(f, a, b, n=100, args=None):\n",
    "    x = np.linspace(a,b,n)\n",
    "    Δx = x[1]-x[0]\n",
    "    if args is None:\n",
    "        fx = f(x)\n",
    "    else:\n",
    "        fx = f(x, *args)\n",
    "    I = -Δx/2*(fx[0]+fx[-1]) + Δx*np.sum(fx)\n",
    "    return I\n",
    "    \n",
    "#---------------\n",
    "\n",
    "def f(x, c0, c1, c2):\n",
    "    return c2*x**2 + c1*x + c0\n",
    "\n",
    "#---------------\n",
    "\n",
    "I = myQuad(f, 0, 2, args=(1.1, 2.2, 3.3))\n",
    "print(I)"
   ]
  },
  {
   "cell_type": "code",
   "execution_count": null,
   "metadata": {},
   "outputs": [],
   "source": []
  }
 ],
 "metadata": {
  "hide_input": false,
  "kernelspec": {
   "display_name": "Python 3",
   "language": "python",
   "name": "python3"
  },
  "language_info": {
   "codemirror_mode": {
    "name": "ipython",
    "version": 3
   },
   "file_extension": ".py",
   "mimetype": "text/x-python",
   "name": "python",
   "nbconvert_exporter": "python",
   "pygments_lexer": "ipython3",
   "version": "3.6.5"
  },
  "varInspector": {
   "cols": {
    "lenName": 16,
    "lenType": 16,
    "lenVar": 40
   },
   "kernels_config": {
    "python": {
     "delete_cmd_postfix": "",
     "delete_cmd_prefix": "del ",
     "library": "var_list.py",
     "varRefreshCmd": "print(var_dic_list())"
    },
    "r": {
     "delete_cmd_postfix": ") ",
     "delete_cmd_prefix": "rm(",
     "library": "var_list.r",
     "varRefreshCmd": "cat(var_dic_list()) "
    }
   },
   "types_to_exclude": [
    "module",
    "function",
    "builtin_function_or_method",
    "instance",
    "_Feature"
   ],
   "window_display": false
  }
 },
 "nbformat": 4,
 "nbformat_minor": 1
}
