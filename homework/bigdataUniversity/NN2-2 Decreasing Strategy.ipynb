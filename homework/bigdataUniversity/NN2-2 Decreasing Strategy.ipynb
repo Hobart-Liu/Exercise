{
 "cells": [
  {
   "cell_type": "markdown",
   "metadata": {},
   "source": [
    "- Stochastic gradient descent will converge if \n",
    "\n",
    "$ \\Sigma_{t=1}^\\infty \\alpha_t = \\infty $\n",
    "\n",
    "$ \\Sigma_{t=1}^\\infty \\alpha_t^2 < \\infty $\n",
    "\n",
    "\n",
    "- Some examples that satisfies the condition\n",
    "\n",
    "$ \\alpha_t = \\cfrac{\\alpha}{1+\\delta t}$\n",
    "\n",
    "$ \\alpha_t = \\cfrac{\\alpha}{t^\\delta} $"
   ]
  },
  {
   "cell_type": "code",
   "execution_count": null,
   "metadata": {
    "collapsed": true
   },
   "outputs": [],
   "source": []
  }
 ],
 "metadata": {
  "kernelspec": {
   "display_name": "Python 3",
   "language": "python",
   "name": "python3"
  },
  "language_info": {
   "codemirror_mode": {
    "name": "ipython",
    "version": 3
   },
   "file_extension": ".py",
   "mimetype": "text/x-python",
   "name": "python",
   "nbconvert_exporter": "python",
   "pygments_lexer": "ipython3",
   "version": "3.6.0"
  }
 },
 "nbformat": 4,
 "nbformat_minor": 2
}
