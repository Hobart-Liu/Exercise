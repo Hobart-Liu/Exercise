{
 "cells": [
  {
   "cell_type": "markdown",
   "metadata": {},
   "source": [
    "### SGC (Stochastic Gradient Descent)\n",
    "\n",
    "- Algorithm that performs updates after each example\n",
    "    - initialize $\\theta  (\\theta = {W^{(1)}, b^{(1)}..., w^{(L+1)}, b^{(L+1)}} )$\n",
    "    - for N iterations (*training **epoch** = iteration over all examples*)\n",
    "        - for each training example $(x^{(t)}, y^{(t)})$\n",
    "         \n",
    "        $\\Delta = -\\nabla_\\theta   l(f(x^{(t)};\\theta), y^{(t)}) - \\lambda\\nabla_\\theta\\Omega(\\theta)$\n",
    "\n",
    "        $\\theta = \\theta + \\alpha \\Delta$\n",
    "\n",
    "- To apply this algorithm to nerual network, we need \n",
    "    - the loss function $l(f(x^{(t)};\\theta), y^{(t)})$\n",
    "    - a procedure to compute the parameter gradient $\\nabla_\\theta l(f(x^{(t)};\\theta), y^{(t)}) $\n",
    "    - the regularizer $\\Omega(\\theta)$ and the gradient $\\nabla_\\theta\\Omega(\\theta)$\n",
    "    - initialization method"
   ]
  },
  {
   "cell_type": "markdown",
   "metadata": {},
   "source": [
    "### Solve $\\nabla_\\theta   l(f(x^{(t)};\\theta), y^{(t)})$\n",
    "\n",
    "#### loss gradient at hidden layers \n",
    "\n",
    "$ \\nabla_{h^{(k)}(x)} loss() = {(W^{(k+1)})}^T(\\nabla_{a^{(k+1)}(x)} loss()) $\n",
    "\n",
    "#### loss gradient at hiddn laters pre-activation\n",
    "\n",
    "$ \\nabla_{a^{(k)}(x)} loss() = (\\nabla_{h^{(k)}(x)} loss())^T \\nabla_{a^{(k)}(x)}h^{(k)}(x) $\n",
    "\n",
    "#### loss gradient of parameters\n",
    "\n",
    "$ \\nabla_{W^{(k)}}loss() = (\\nabla_{a^{(k)}(x)}loss())(h^{(k-1)}(x))^T $\n",
    "\n",
    "#### loss gradient of bias\n",
    "\n",
    "$ \\nabla_{b^{()k}}loss() = \\nabla_{a^{(k)}(x)} loss() $\n",
    "\n",
    "<img src=\"multilayer neural network.png\">\n",
    "\n"
   ]
  },
  {
   "cell_type": "markdown",
   "metadata": {},
   "source": []
  },
  {
   "cell_type": "code",
   "execution_count": null,
   "metadata": {
    "collapsed": true
   },
   "outputs": [],
   "source": []
  }
 ],
 "metadata": {
  "kernelspec": {
   "display_name": "Python 3",
   "language": "python",
   "name": "python3"
  },
  "language_info": {
   "codemirror_mode": {
    "name": "ipython",
    "version": 3
   },
   "file_extension": ".py",
   "mimetype": "text/x-python",
   "name": "python",
   "nbconvert_exporter": "python",
   "pygments_lexer": "ipython3",
   "version": "3.6.0"
  }
 },
 "nbformat": 4,
 "nbformat_minor": 2
}
