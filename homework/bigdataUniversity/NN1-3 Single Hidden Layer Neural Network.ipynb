{
 "cells": [
  {
   "cell_type": "markdown",
   "metadata": {
    "deletable": true,
    "editable": true
   },
   "source": [
    "### Single Layer Nerual Network\n",
    "\n",
    "- Hidden layer pre-activation:\n",
    "\n",
    "$ a(x) = b^{(1)} + W^{(1)}x $\n",
    "\n",
    "$ a(x)_i = b_i^{(1)} + \\Sigma_jW_{i,j}^{(1)}x_j $\n",
    "\n",
    "$h(x)_i$ 潜在的和所有的input链接，链接权重的表达为$W_{i,j}$ 采用的是to_from 的表达方式, 所以在乘的时候用的是$\\Sigma_j x_j$\n",
    "\n",
    "- Hideen layer activation:\n",
    "\n",
    "$ h(x) = g(a(x)) $\n",
    "\n",
    "- Output layer activation:\n",
    "\n",
    "$ f(x) = o(b^{(2)} + w^{(2)^T}h^{(1)}(x) $\n",
    "\n",
    "\n",
    "** Note: 关于 在第二层使用$w^{(2)^T}$ **\n",
    "\n",
    "问题：在第一层中，我们并没有转置权重矩阵，而在第二层中转置了矩阵，为什么？\n",
    "\n",
    "在第一层中，我们的计算过程是这样的\n",
    "\n",
    "$ \\left[\n",
    "  \\begin{matrix}\n",
    "   h_1 \\\\\n",
    "   h_2 \\\\\n",
    "   h_3 \\\\\n",
    "  \\end{matrix}\n",
    "  \\right] \n",
    "$ = $\n",
    " \\left[\n",
    " \\begin{matrix}\n",
    "   W_{10} & W_{11} & W_{12} \\\\\n",
    "   W_{20} & W_{21} & W_{22} \\\\\n",
    "   W_{30} & W_{31} & W_{32}\n",
    "  \\end{matrix}\n",
    "  \\right] \n",
    "$ * $ \\left[\n",
    "  \\begin{matrix}\n",
    "   x_1 \\\\\n",
    "   x_2 \\\\\n",
    "   x_3 \\\\\n",
    "  \\end{matrix}\n",
    "  \\right] \n",
    "$\n",
    "\n",
    "$W^{(1)}$是按$W_{i,j}$ 组织的，$x$ 是向量输入，输出为hidden layer neuron 的向量。\n",
    "\n",
    "针对特定的$i=1$时，$W_{1,j}$ 是一个行向量。(或者说，$W_{1,j}$在经过装置了以后才是一个向量。而在第二层的时候，$W^{(2)}_{(i,j)}$,由于没有多个neuron, 这里的W 是直接按向量方式组织。hidden_layer_neuron 还是向量。"
   ]
  },
  {
   "cell_type": "markdown",
   "metadata": {
    "deletable": true,
    "editable": true
   },
   "source": [
    "<img src=\"singlelayer nerual network.png\">"
   ]
  },
  {
   "cell_type": "code",
   "execution_count": null,
   "metadata": {
    "collapsed": true,
    "deletable": true,
    "editable": true
   },
   "outputs": [],
   "source": []
  }
 ],
 "metadata": {
  "kernelspec": {
   "display_name": "Python 3",
   "language": "python",
   "name": "python3"
  },
  "language_info": {
   "codemirror_mode": {
    "name": "ipython",
    "version": 3
   },
   "file_extension": ".py",
   "mimetype": "text/x-python",
   "name": "python",
   "nbconvert_exporter": "python",
   "pygments_lexer": "ipython3",
   "version": "3.6.0"
  }
 },
 "nbformat": 4,
 "nbformat_minor": 2
}
