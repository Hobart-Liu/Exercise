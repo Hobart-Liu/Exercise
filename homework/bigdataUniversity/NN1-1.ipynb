{
 "cells": [
  {
   "cell_type": "markdown",
   "metadata": {
    "deletable": true,
    "editable": true
   },
   "source": [
    "Neuron pre-activation (or input activation)\n",
    "$a(x) = b + \\Sigma_iw_ix_i = b + w^Tx$\n",
    "\n",
    "Neruon output activation\n",
    "$g(x) = g(a(x)) = g(b + \\Sigma_iw_ix_i)$\n",
    "\n",
    "$w$ are the connections weights\n",
    "\n",
    "$b$ is the neuron bias\n",
    "\n",
    "$g(.)$ is called the activation function  $ g(x) = \\cfrac{1}{1+e^{(-x)}}$\n",
    "\n",
    "Change w and x to watch the difference of a(x) curve and g(a(x)) curve"
   ]
  },
  {
   "cell_type": "code",
   "execution_count": 19,
   "metadata": {
    "collapsed": true,
    "deletable": true,
    "editable": true
   },
   "outputs": [],
   "source": [
    "import numpy as np\n",
    "import matplotlib.pyplot as plt\n",
    "from mpl_toolkits.mplot3d import axes3d"
   ]
  },
  {
   "cell_type": "code",
   "execution_count": 38,
   "metadata": {
    "collapsed": false,
    "deletable": true,
    "editable": true
   },
   "outputs": [],
   "source": [
    "# we will show y=g(a(x))\n",
    "# where a(x) is pre-activation function\n",
    "# g(.) is activation function\n",
    "\n",
    "x = np.linspace(start=-20, stop=20, num=10000)\n",
    "\n",
    "def a(x):\n",
    "    w = 2\n",
    "    return w*x \n",
    "\n",
    "def g(x):  # actually this is sigmoid function\n",
    "    return 1.0/(1.0 + np.exp(-x))\n",
    "\n",
    "y    = a(x)\n",
    "newy = g(y)"
   ]
  },
  {
   "cell_type": "code",
   "execution_count": 39,
   "metadata": {
    "collapsed": false,
    "deletable": true,
    "editable": true
   },
   "outputs": [
    {
     "data": {
      "image/png": "[encoded data removed]",
      "text/plain": [
       "<matplotlib.figure.Figure at 0x10e408b38>"
      ]
     },
     "metadata": {},
     "output_type": "display_data"
    }
   ],
   "source": [
    "plt.plot(x, y, label='a(x)')\n",
    "plt.plot(x, newy, label='g(a(x))')\n",
    "plt.xlim(-2,2)\n",
    "plt.ylim(-1,1)\n",
    "plt.legend()\n",
    "plt.show()"
   ]
  },
  {
   "cell_type": "markdown",
   "metadata": {
    "collapsed": true,
    "deletable": true,
    "editable": true
   },
   "source": [
    "Leave a task for future, please draw a plot_surface, to understand w and b. "
   ]
  }
 ],
 "metadata": {
  "kernelspec": {
   "display_name": "Python 3",
   "language": "python",
   "name": "python3"
  },
  "language_info": {
   "codemirror_mode": {
    "name": "ipython",
    "version": 3
   },
   "file_extension": ".py",
   "mimetype": "text/x-python",
   "name": "python",
   "nbconvert_exporter": "python",
   "pygments_lexer": "ipython3",
   "version": "3.6.0"
  }
 },
 "nbformat": 4,
 "nbformat_minor": 2
}
