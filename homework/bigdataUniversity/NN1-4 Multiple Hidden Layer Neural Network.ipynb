{
 "cells": [
  {
   "cell_type": "markdown",
   "metadata": {
    "deletable": true,
    "editable": true
   },
   "source": [
    "### Multilayer Neural Network\n",
    "\n",
    "这里主要是讲notation\n",
    "\n",
    "针对一个多层的网络，一共有 **L** 层\n",
    "\n",
    "- layer pre-activation for *k>0* $(h^{(0)}(x) = x)$ \n",
    "\n",
    "$ a^{(k)}(x) = b^{(k)} + W^{(k)}h^{(k-1)}(x) $  \n",
    "\n",
    "- Hidden layer activation (k from 1 to L)\n",
    "\n",
    "$ h^{(k)}(x) = g(a^{(k)}(x))$\n",
    "\n",
    "- Output layer activation (k = L+1)\n",
    "\n",
    "$ h^{(L+1)}(x) = o(a^{(L+1)}(x)) = f(x) $"
   ]
  },
  {
   "cell_type": "markdown",
   "metadata": {
    "deletable": true,
    "editable": true
   },
   "source": [
    "<img src=\"multilayer neural network.png\">"
   ]
  },
  {
   "cell_type": "code",
   "execution_count": null,
   "metadata": {
    "collapsed": true,
    "deletable": true,
    "editable": true
   },
   "outputs": [],
   "source": []
  }
 ],
 "metadata": {
  "kernelspec": {
   "display_name": "Python 3",
   "language": "python",
   "name": "python3"
  },
  "language_info": {
   "codemirror_mode": {
    "name": "ipython",
    "version": 3
   },
   "file_extension": ".py",
   "mimetype": "text/x-python",
   "name": "python",
   "nbconvert_exporter": "python",
   "pygments_lexer": "ipython3",
   "version": "3.6.0"
  }
 },
 "nbformat": 4,
 "nbformat_minor": 2
}
