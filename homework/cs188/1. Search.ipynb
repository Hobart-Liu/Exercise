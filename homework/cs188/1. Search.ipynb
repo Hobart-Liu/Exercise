{
 "cells": [
  {
   "cell_type": "markdown",
   "metadata": {},
   "source": [
    "运行环境Python3\n",
    "\n",
    "参考教程： UC Berkeley CS188 Intro to AI, http://ai.berkeley.edu/home.html\n",
    "\n",
    "参考教程： Artifical Intelligence, a Morden Approach"
   ]
  },
  {
   "cell_type": "markdown",
   "metadata": {},
   "source": [
    "### 测试用例，罗马尼亚地图\n",
    "\n",
    "<img src = 'pic\\RomaniaMap.JPG'>"
   ]
  },
  {
   "cell_type": "markdown",
   "metadata": {},
   "source": [
    "# Topic: Search \n",
    "\n",
    "Keywords: DFS, BFS, Best-first Search, A-star\n",
    "\n",
    "- 一些辅助类和方法， Node 类用于和节点相关的方法封装。 h计算， Decorator的\n",
    "- 问题描述类GraphProblem, 用于呈现拓扑结构，起始点，终点，以及目标达成的判断。\n",
    "- 算法核心过程，以及用于不用策略实现的各种队列\n"
   ]
  },
  {
   "cell_type": "markdown",
   "metadata": {},
   "source": [
    "### Some supporting functions\n",
    "\n",
    "##### Decorator\n",
    "用于存放调试数据\n",
    "\n",
    "make it remember the computed value for any argument list. (slot=attribute)\n",
    "- If slot is specified, store result in that slot of first argument. \n",
    "- If slot is false, store results in a dictionary.\n",
    "\n",
    "在罗马尼亚地图的例子里，给每个节点(obj)增加了一个'f'属性，用于存放f(n), f(n) = h 就是greedy search, f(n) = g(n) + h(n) 就是A-star search\n",
    "\n",
    "\n",
    "##### Node\n",
    "表述图中的每一个节点\n",
    "\n",
    "- path 返回的是该节点到根节点之间的节点列表 (List with Node instances)\n",
    "- expand 返回的是该节点可以访问到的所有节点的列表 (List with Node instances\n",
    "\n",
    "\n",
    "##### Directed and Undirected Graphs\n",
    "\n",
    "有向图和无向图的类,初始化时使用字典表述父子节点的关系。 无向图就是在有向图的基础上，追加基于节点的字典项。\n",
    "\n",
    "    \"\"\"A graph connects nodes (verticies) by edges (links).  Each edge can also\n",
    "    have a length associated with it.  The constructor call is something like:\n",
    "        g = Graph({'A': {'B': 1, 'C': 2})   \n",
    "    this makes a graph with 3 nodes, A, B, and C, with an edge of length 1 from\n",
    "    A to B,  and an edge of length 2 from A to C.  You can also do:\n",
    "        g = Graph({'A': {'B': 1, 'C': 2}, directed=False)\n",
    "    This makes an undirected graph, so inverse links are also added. The graph\n",
    "    stays undirected; if you add more links with g.connect('B', 'C', 3), then\n",
    "    inverse link is also added.  You can use g.nodes() to get a list of nodes,\n",
    "    g.get('A') to get a dict of links out of A, and g.get('A', 'B') to get the\n",
    "    length of the link from A to B.  'Lengths' can actually be any object at \n",
    "    all, and nodes can be any hashable object.\"\"\"\n",
    "\n",
    "\n",
    "##### Distance\n",
    "\n",
    "用于计算 h(n), relax problem\n",
    "\n",
    "\n",
    "##### infinity\n",
    "\n",
    "Constant value simulate infinity\n"
   ]
  },
  {
   "cell_type": "code",
   "execution_count": 21,
   "metadata": {
    "collapsed": true
   },
   "outputs": [],
   "source": [
    "import math\n",
    "import bisect"
   ]
  },
  {
   "cell_type": "code",
   "execution_count": 22,
   "metadata": {
    "collapsed": true
   },
   "outputs": [],
   "source": [
    "def memoize(fn, slot=None):\n",
    "    if slot:\n",
    "        def memoized_fn(obj, *args):\n",
    "            if hasattr(obj, slot):\n",
    "                return getattr(obj, slot)\n",
    "            else:\n",
    "                val = fn(obj, *args)\n",
    "                setattr(obj, slot, val)\n",
    "                return val\n",
    "    else:\n",
    "        def memoized_fn(*args):\n",
    "            if not memoized_fn.cache.has_key(args):\n",
    "                memoized_fn.cache[args] = fn(*args)\n",
    "            return memoized_fn.cache[args]\n",
    "        memoized_fn.cache = {}\n",
    "    return memoized_fn\n"
   ]
  },
  {
   "cell_type": "code",
   "execution_count": 23,
   "metadata": {
    "collapsed": true
   },
   "outputs": [],
   "source": [
    "class Node:\n",
    "\n",
    "    def __init__(self, state, parent=None, path_cost=0):\n",
    "        self.state = state\n",
    "        self.parent = parent\n",
    "        self.path_cost = path_cost\n",
    "\n",
    "        if parent:\n",
    "            self.depth = parent.depth + 1\n",
    "        else:\n",
    "            self.depth = 0\n",
    "\n",
    "    def __repr__(self):\n",
    "        return self.state\n",
    "\n",
    "    def path(self):\n",
    "        x, result = self, [self]\n",
    "        while x.parent:\n",
    "            result.append(x.parent)\n",
    "            x = x.parent\n",
    "        return result\n",
    "\n",
    "    def expand(self, problem):\n",
    "        return [Node(next, self, problem.path_cost(self.path_cost, self.state, next)) \n",
    "                for next in problem.successor(self.state)]\n",
    "\n",
    "# Note: 两个父节点共享一个子节点时，子节点被创建2遍。 但由于重复的子节点有同样state名字，所以在close set 中，可以防止子节点被重复放入。"
   ]
  },
  {
   "cell_type": "code",
   "execution_count": 24,
   "metadata": {
    "collapsed": true
   },
   "outputs": [],
   "source": [
    "infinity = 1.0e400\n",
    "\n",
    "def distance(A, B):\n",
    "    \"The distance between two (x, y) points.\"\n",
    "    (ax, ay) = A\n",
    "    (bx, by) = B\n",
    "    return math.hypot((ax - bx), (ay - by))"
   ]
  },
  {
   "cell_type": "code",
   "execution_count": 25,
   "metadata": {
    "collapsed": true
   },
   "outputs": [],
   "source": [
    "class Graph:\n",
    "\n",
    "    def __init__(self, dictionary=None, directed=True):\n",
    "        self.dictionary = dictionary or {}\n",
    "        self.directed = directed\n",
    "        if not directed: self.make_undirected()\n",
    "\n",
    "    def make_undirected(self):\n",
    "        \"Make a digraph into an undirected graph by adding symmetric edges.\"\n",
    "        tmp = list(self.dictionary.keys())\n",
    "        for a in tmp:\n",
    "            for (b, distance) in self.dictionary[a].items():\n",
    "                self.connect1(b, a, distance)\n",
    "\n",
    "    def connect(self, A, B, distance=1):\n",
    "        \"\"\"Add a link from A and B of given distance, and also add the inverse\n",
    "        link if the graph is undirected.\"\"\"\n",
    "        self.connect1(A, B, distance)\n",
    "        if not self.directed: self.connect1(B, A, distance)\n",
    "\n",
    "    def connect1(self, A, B, distance):\n",
    "        \"Add a link from A to B of given distance, in one direction only.\"\n",
    "        self.dictionary.setdefault(A,{})[B] = distance\n",
    "\n",
    "    def get(self, a, b=None):\n",
    "        \"\"\"Return a link distance or a dict of {node: distance} entries.\n",
    "        .get(a,b) returns the distance or None;\n",
    "        .get(a) returns a dict of {node: distance} entries, possibly {}.\"\"\"\n",
    "        links = self.dictionary.setdefault(a, {})\n",
    "        if b is None: return links\n",
    "        else: return links.get(b)\n",
    "\n",
    "    def nodes(self):\n",
    "        \"Return a list of nodes in the graph.\"\n",
    "        return self.dictionary.keys()\n",
    "    \n",
    "def UndirectedGraph(dictionary=None):\n",
    "    \"Build a Graph where every edge (including future ones) goes both ways.\"\n",
    "    return Graph(dictionary=dictionary, directed=False)"
   ]
  },
  {
   "cell_type": "markdown",
   "metadata": {},
   "source": [
    "### Problem 定义\n",
    "\n",
    "完成如下功能\n",
    "- init 问题的初始状态和最终状态\n",
    "- goal_test 是否达到目标\n",
    "- successor 任意节点的可以拓展的下一个目标（集合）\n",
    "- path_cost 节点A到节点B的path_cost\n",
    "- h h值\n"
   ]
  },
  {
   "cell_type": "code",
   "execution_count": 26,
   "metadata": {
    "collapsed": true
   },
   "outputs": [],
   "source": [
    "class GraphProblem:\n",
    "    \"The problem of searching a graph from one node to another.\"\n",
    "    def __init__(self, initial, goal, graph):\n",
    "        self.initial = initial\n",
    "        self.goal = goal\n",
    "        self.graph = graph\n",
    "        \n",
    "    def goal_test(self, state):\n",
    "        return state == self.goal\n",
    "\n",
    "    def successor(self, A):\n",
    "        \"Return a list of connected nodes in state space\"\n",
    "        return [B for B in self.graph.get(A).keys()]\n",
    "\n",
    "    def path_cost(self, cost_so_far, A, B):\n",
    "        return cost_so_far + (self.graph.get(A,B) or infinity)\n",
    "\n",
    "    def h(self, node):\n",
    "        \"h function is straight-line distance from a node's state to goal.\"\n",
    "        locs = getattr(self.graph, 'locations', None)\n",
    "        if locs:\n",
    "            return int(distance(locs[node.state], locs[self.goal]))\n",
    "        else:\n",
    "            return infinity\n",
    "\n",
    "    def value(self):\n",
    "        return 1"
   ]
  },
  {
   "cell_type": "code",
   "execution_count": 27,
   "metadata": {
    "collapsed": true
   },
   "outputs": [],
   "source": [
    "romania = UndirectedGraph(dict(\n",
    "    A=dict(Z=75, S=140, T=118),\n",
    "    B=dict(U=85, P=101, G=90, F=211),\n",
    "    C=dict(D=120, R=146, P=138),\n",
    "    D=dict(M=75),\n",
    "    E=dict(H=86),\n",
    "    F=dict(S=99),\n",
    "    H=dict(U=98),\n",
    "    I=dict(V=92, N=87),\n",
    "    L=dict(T=111, M=70),\n",
    "    O=dict(Z=71, S=151),\n",
    "    P=dict(R=97),\n",
    "    R=dict(S=80),\n",
    "    U=dict(V=142)))\n",
    "\n",
    "romania.locations = dict(\n",
    "    A=( 91, 492),    B=(400, 327),    C=(253, 288),   D=(165, 299),\n",
    "    E=(562, 293),    F=(305, 449),    G=(375, 270),   H=(534, 350),\n",
    "    I=(473, 506),    L=(165, 379),    M=(168, 339),   N=(406, 537),\n",
    "    O=(131, 571),    P=(320, 368),    R=(233, 410),   S=(207, 457),\n",
    "    T=( 94, 410),    U=(456, 350),    V=(509, 444),   Z=(108, 531))\n"
   ]
  },
  {
   "cell_type": "markdown",
   "metadata": {},
   "source": [
    "### 算法核心过程\n",
    "##### Queues\n",
    "\n",
    "定义不同的队列，search 算法的不同就是由队列不同来体现。 从算法角度讲，就是如何按照不同的策略取出下一个/批要搜索/检查的节点。\n",
    "\n",
    "    \"\"\"Queue is an abstract class/interface. There are three types:\n",
    "        Stack(): A Last In First Out Queue.\n",
    "        FIFOQueue(): A First In First Out Queue.\n",
    "        PriorityQueue(lt): Queue where items are sorted by lt, (default <).\n",
    "    Each type supports the following methods and functions:\n",
    "        q.append(item)  -- add an item to the queue\n",
    "        q.extend(items) -- equivalent to: for item in items: q.append(item)\n",
    "        q.pop()         -- return the top item from the queue\n",
    "        len(q)          -- number of items in q (also q.__len())\n",
    "    Note that isinstance(Stack(), Queue) is false, because we implement stacks\n",
    "    as lists.  If Python ever gets interfaces, Queue will be an interface.\"\"\"\n"
   ]
  },
  {
   "cell_type": "code",
   "execution_count": 28,
   "metadata": {},
   "outputs": [],
   "source": [
    "# Queues: Stack, FIFOQueue, PriorityQueue\n",
    "\n",
    "import abc\n",
    "\n",
    "class Queue(metaclass=abc.ABCMeta):\n",
    "\n",
    "    @abc.abstractclassmethod\n",
    "    def __init__(self):\n",
    "        pass\n",
    "\n",
    "    def extend(self, items):\n",
    "        for item in items: self.append(item)\n",
    "\n",
    "\n",
    "\n",
    "def Stack():\n",
    "    \"\"\"Return an empty list, suitable as a Last-In-First-Out Queue.\"\"\"\n",
    "    return []\n",
    "\n",
    "\n",
    "class FIFOQueue(Queue):\n",
    "    \"\"\"A First-In-First-Out Queue.\"\"\"\n",
    "    def __init__(self):\n",
    "        self.A = []\n",
    "        self.start = 0\n",
    "\n",
    "    def append(self, item):\n",
    "        self.A.append(item)\n",
    "\n",
    "    def __len__(self):\n",
    "        return len(self.A) - self.start\n",
    "\n",
    "    def extend(self, items):\n",
    "        self.A.extend(items)\n",
    "\n",
    "    def pop(self):\n",
    "        e = self.A[self.start]\n",
    "        self.start += 1\n",
    "        if self.start > 5 and self.start > len(self.A)/2:\n",
    "            self.A = self.A[self.start:]\n",
    "            self.start = 0\n",
    "        return e\n",
    "\n",
    "    def __repr__(self):\n",
    "        return str(self.A[self.start:len(self.A)])\n",
    "\n",
    "\n",
    "class PriorityQueue(Queue):\n",
    "    \"\"\"A queue in which the minimum (or maximum) element (as determined by f and\n",
    "    order) is returned first. If order is min, the item with minimum f(x) is\n",
    "    returned first; if order is max, then it is the item with maximum f(x).\"\"\"\n",
    "    def __init__(self, order=min, f=lambda x: x):\n",
    "        self.A = []\n",
    "        self.f = f\n",
    "        self.order = order\n",
    "\n",
    "    def append(self, item):\n",
    "        bisect.insort(self.A, (self.f(item), item))\n",
    "\n",
    "    def __len__(self):\n",
    "        return len(self.A)\n",
    "\n",
    "    def pop(self):\n",
    "        if self.order == min:\n",
    "            return self.A.pop(0)[1]\n",
    "        else:\n",
    "            return self.A.pop()[1]\n",
    "\n",
    "    def __repr__(self):\n",
    "        return str(self.A)"
   ]
  },
  {
   "cell_type": "markdown",
   "metadata": {},
   "source": [
    "###  搜索的核心框架\n",
    "\n",
    "- problem, 就是从Problem基类继承出来的描述问题的逻辑体，完成初始，目标，目标判断，以及触发获取周围节点的能力。\n",
    "- fringe,是队列，也是核心。代表了search 算法用的何种策略来获取周围节点，如： FILO 实现的DFS, FIFO 实现BFS, PriorityQueue 就是Greedy/Astar 的基础。"
   ]
  },
  {
   "cell_type": "code",
   "execution_count": 29,
   "metadata": {
    "collapsed": true
   },
   "outputs": [],
   "source": [
    "def graph_search(problem, fringe):\n",
    "\n",
    "    closed = {}\n",
    "    fringe.append(Node(problem.initial))\n",
    "    while fringe:\n",
    "        node = fringe.pop()\n",
    "\n",
    "        if problem.goal_test(node.state):\n",
    "            return node\n",
    "        if node.state not in closed:\n",
    "            closed[node.state] = True\n",
    "            fringe.extend(node.expand(problem))\n",
    "    return None"
   ]
  },
  {
   "cell_type": "code",
   "execution_count": 30,
   "metadata": {
    "collapsed": true
   },
   "outputs": [],
   "source": [
    "def breadth_first_graph_search(problem):\n",
    "    return graph_search(problem, FIFOQueue())\n",
    "\n",
    "def depth_first_graph_search(problem):\n",
    "    return graph_search(problem, Stack())"
   ]
  },
  {
   "cell_type": "code",
   "execution_count": 31,
   "metadata": {},
   "outputs": [],
   "source": [
    "def best_first_graph_search(problem):\n",
    "    def fn(item):\n",
    "        return item.path_cost\n",
    "    f = memoize(fn, 'f')\n",
    "    return graph_search(problem, PriorityQueue(max, f))\n"
   ]
  },
  {
   "cell_type": "code",
   "execution_count": 32,
   "metadata": {
    "collapsed": true
   },
   "outputs": [],
   "source": [
    "def astar_search(problem, h=None):\n",
    "    \"\"\"A* search is best-first graph search with f(n) = g(n)+h(n).\n",
    "    You need to specify the h function when you call astar_search.\n",
    "    Uses the pathmax trick: f(n) = max(f(n), g(n)+h(n)).\"\"\"\n",
    "    h = h or problem.h\n",
    "    def f(n):\n",
    "        return max(getattr(n, 'f', -infinity), n.path_cost + h(n))\n",
    "    f = memoize(f, 'f')\n",
    "    return graph_search(problem, PriorityQueue(min, f))\n"
   ]
  },
  {
   "cell_type": "markdown",
   "metadata": {},
   "source": [
    "## 测试\n",
    "\n"
   ]
  },
  {
   "cell_type": "code",
   "execution_count": 33,
   "metadata": {},
   "outputs": [
    {
     "name": "stdout",
     "output_type": "stream",
     "text": [
      "-----------------------BFS------------------------\n",
      "B\n"
     ]
    },
    {
     "data": {
      "text/plain": [
       "['B', 'F', 'S', 'A']"
      ]
     },
     "execution_count": 33,
     "metadata": {},
     "output_type": "execute_result"
    }
   ],
   "source": [
    "# DFS and BFS\n",
    "\n",
    "ab = GraphProblem('A','B',romania)\n",
    "\n",
    "print(\"BFS\".center(50, '-'))\n",
    "print(breadth_first_graph_search(ab).state)\n",
    "[node.state for node in breadth_first_graph_search(ab).path()] "
   ]
  },
  {
   "cell_type": "code",
   "execution_count": 34,
   "metadata": {},
   "outputs": [
    {
     "name": "stdout",
     "output_type": "stream",
     "text": [
      "-----------------------DFS------------------------\n",
      "B\n"
     ]
    },
    {
     "data": {
      "text/plain": [
       "['B', 'P', 'C', 'D', 'M', 'L', 'T', 'A']"
      ]
     },
     "execution_count": 34,
     "metadata": {},
     "output_type": "execute_result"
    }
   ],
   "source": [
    "print(\"DFS\".center(50, '-'))\n",
    "print(depth_first_graph_search(ab).state)\n",
    "[node.state for node in depth_first_graph_search(ab).path()] "
   ]
  },
  {
   "cell_type": "code",
   "execution_count": 35,
   "metadata": {},
   "outputs": [
    {
     "name": "stdout",
     "output_type": "stream",
     "text": [
      "----------------Best-first Search-----------------\n",
      "B\n"
     ]
    },
    {
     "data": {
      "text/plain": [
       "['B', 'F', 'S', 'A']"
      ]
     },
     "execution_count": 35,
     "metadata": {},
     "output_type": "execute_result"
    }
   ],
   "source": [
    "print(\"Best-first Search\".center(50, '-'))\n",
    "\n",
    "print(best_first_graph_search(ab).state)\n",
    "[node.state for node in best_first_graph_search(ab).path()] "
   ]
  },
  {
   "cell_type": "code",
   "execution_count": 36,
   "metadata": {},
   "outputs": [
    {
     "name": "stdout",
     "output_type": "stream",
     "text": [
      "B 450\n",
      "F 239\n",
      "S 140\n",
      "A 0\n"
     ]
    }
   ],
   "source": [
    "for node in best_first_graph_search(ab).path():\n",
    "    print(node.state, node.f)"
   ]
  },
  {
   "cell_type": "code",
   "execution_count": 37,
   "metadata": {},
   "outputs": [
    {
     "name": "stdout",
     "output_type": "stream",
     "text": [
      "------------------A-star Search-------------------\n",
      "B\n",
      "B 418\n",
      "P 406\n",
      "R 406\n",
      "S 372\n",
      "A 350\n"
     ]
    }
   ],
   "source": [
    "print(\"A-star Search\".center(50, '-'))\n",
    "print(astar_search(ab).state)\n",
    "for node in astar_search(ab).path():\n",
    "    print(node.state, node.f)"
   ]
  },
  {
   "cell_type": "code",
   "execution_count": null,
   "metadata": {
    "collapsed": true
   },
   "outputs": [],
   "source": []
  }
 ],
 "metadata": {
  "kernelspec": {
   "display_name": "Python 3",
   "language": "python",
   "name": "python3"
  },
  "language_info": {
   "codemirror_mode": {
    "name": "ipython",
    "version": 3
   },
   "file_extension": ".py",
   "mimetype": "text/x-python",
   "name": "python",
   "nbconvert_exporter": "python",
   "pygments_lexer": "ipython3",
   "version": "3.5.2"
  }
 },
 "nbformat": 4,
 "nbformat_minor": 2
}
