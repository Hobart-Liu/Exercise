{
 "cells": [
  {
   "cell_type": "markdown",
   "metadata": {},
   "source": [
    "Bayesian Data Analysis Notes\n",
    "="
   ]
  },
  {
   "cell_type": "markdown",
   "metadata": {},
   "source": [
    "关于公式的理解：  \n",
    "\n",
    "$ P(\\theta | D) = \\dfrac {P(D | \\theta) \\times P(\\theta)}{P(D)} $ "
   ]
  },
  {
   "cell_type": "markdown",
   "metadata": {},
   "source": [
    "- 最常见的就是$P(D|\\theta)$, 也叫Likelihood似然函数。我觉得这个比较混淆，我简单理解为概率密度函数，或者说是predictive，即$\\theta$已知时，我们可以通过该模型求出数据$D$的概率值。和我们平时说的$norm.pdf(x)$没什么两样。在贝叶斯过程中，常常会使用公式的具体定义，如: $\\dfrac{1}{\\sigma\\sqrt{2\\pi}}\\exp\\bigg( -\\dfrac{1}{2} \\big(\\dfrac{x-\\mu}{\\sigma}\\big)^2\\bigg)$  \n",
    "  \n",
    "  \n",
    "  \n",
    "- 然而我们最常见的是不知道$\\theta$的取值，在贝叶斯内，$\\theta$的取值不会是一个确定的值，永远都是一个分布来描述$\\theta$可能的概率分布。如：我们可以用$\\mathcal{Gamma}$分布来描述期望的正态分布分布中的方差的取值.$Normal(x|\\theta) \\times Gamma(\\theta)$,从而得到x在正态分布分布中的概率值。形式上可以理解为$Normal(mu, \\theta).pdf(x) \\times Gamma(a, b).pdf(\\theta)$  \n",
    "  \n",
    "  \n",
    "  \n",
    "- 事实上，由于贝叶斯不存在确定性的取值，在求x在正态分布中的概率值，我们往往要做积分。对于不同的$\\theta$,$Gamma(\\theta)$的值不一样，我们要把所有的可能积分起来 $\\int P(x|\\mu, \\sigma) P(\\sigma) d\\sigma$    \n",
    "  \n",
    "  \n",
    "  \n",
    "- $P(\\sigma)$则是通过既定的模型，如$Gamma(a, b).pdf(\\sigma)$来确定特定$\\sigma$的概率值  \n",
    "  \n",
    "  \n",
    "  \n",
    "- 所谓共轭：当我们使用$Normal \\times Gamma$来表达$P(D|\\theta)\\times P(\\theta)$时，如果我们能整理出和$P(\\theta)$相同的分布形式时，我们则可以建立共轭，共轭求解较为方便，概率相乘转换为两个概率模型的参数等式，从而使得逐次迭代成为可能，极大降低计算量。如$Normal \\times Gamma$的形式，可以整理为另一个$Gamma$的形式，我们所要做的是逐次修正参数。\n"
   ]
  },
  {
   "cell_type": "code",
   "execution_count": null,
   "metadata": {},
   "outputs": [],
   "source": []
  }
 ],
 "metadata": {
  "kernelspec": {
   "display_name": "Python 3",
   "language": "python",
   "name": "python3"
  },
  "language_info": {
   "codemirror_mode": {
    "name": "ipython",
    "version": 3
   },
   "file_extension": ".py",
   "mimetype": "text/x-python",
   "name": "python",
   "nbconvert_exporter": "python",
   "pygments_lexer": "ipython3",
   "version": "3.8.6"
  }
 },
 "nbformat": 4,
 "nbformat_minor": 4
}
