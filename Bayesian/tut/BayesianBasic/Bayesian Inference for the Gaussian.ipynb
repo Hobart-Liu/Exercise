{
 "cells": [
  {
   "cell_type": "markdown",
   "metadata": {},
   "source": [
    "Bayesian Inference for the Gaussian\n",
    "==\n",
    "\n",
    "Estimating the parameters of Gaussian distribution and its conjugate prior is common task in Bayesian inference. In this notebook, we will derive the __likelihood, conjugate prior, and posterior and posterior predictive__ for a few important case:\n",
    "\n",
    "- estimate just $\\mu$ with known $\\sigma^2$\n",
    "- estimate just $\\sigma^2$ with known $\\mu$\n",
    "- estimate both parameters. \n",
    "\n",
    "For simplicity, this notebook will stick to univariate models.   \n",
    "\n",
    "#### Reference: \n",
    "- Conjugate Bayesian analysis of the Gaussian distribution by Kevin P.Murphy \n",
    "- http://gregorygundersen.com/blog/2019/04/04/bayesian-gaussian/"
   ]
  },
  {
   "cell_type": "markdown",
   "metadata": {},
   "source": [
    "## 1 Estimating $\\mu$ with known $\\sigma^2$\n",
    "\n",
    "Let $D = (x_1, ..., x_n) $ be the data, 我们以$\\bar{x}$ 和 $s^2$ 表示采样的均值和方差：  \n",
    "$\\begin{align}\n",
    "\\bar{x} & = \\dfrac{1}{n}\\sum_{i=1}^{n}x_i\\\\\n",
    "s^2 & = \\dfrac{1}{n}\\sum_{i=1}^{n}(x_i-\\bar{x})^2\n",
    "\\end{align}$"
   ]
  },
  {
   "cell_type": "markdown",
   "metadata": {},
   "source": [
    "#### 1.1 Likelihood  \n",
    "\n",
    "The likelihood is (__note__: consider $\\sigma^2$ is a constant)  \n",
    "$\\begin{align}\n",
    "p(D|\\mu, \\sigma^2) &= \\prod_{i=1}^{n}{p(x_i|\\mu, \\sigma^2)} \\\\\n",
    "& \\triangleq \\prod_{n=1}^N{\\Big(\\dfrac{1}{(2\\pi\\sigma^2)^{1/2}}\\exp\\Big\\{  -\\dfrac{1}{2\\sigma^2} (x_n - \\mu)^2 \\Big\\} \\Big)} \\tag{定义} \\\\\n",
    "& = \\dfrac{1}{(2\\pi\\sigma^2)^{N/2}} \\exp\\Big\\{  -\\dfrac{1}{2\\sigma^2} \\sum_{n=1}^N(x_n - \\mu)^2 \\Big\\}\n",
    "\\end{align}$"
   ]
  },
  {
   "cell_type": "markdown",
   "metadata": {},
   "source": [
    "#### 1.2 Prior & Posterior\n",
    "\n",
    "#### Prior\n",
    "\n",
    "多个高斯分布相乘，最后的形式仍然会是高斯分布，我们即可假设先验分布采用高斯分布的形式 \n",
    "\n",
    "$\\begin{align}\n",
    "p(\\mu) & =  \\mathcal{N}(\\mu|\\mu_0, \\sigma_0^2) \\\\\n",
    "& = \\dfrac{1}{(2\\pi\\sigma_0^2)^{1/2}} \\exp\\Big\\{  -\\dfrac{1}{2\\sigma_0^2} {(\\mu - \\mu_0)^2} \\Big\\}  \\\\\n",
    "\\end{align} $\n",
    "\n",
    "这里$\\sigma_0, \\mu_0$ 适用于描述$\\mu$的分布\n",
    "\n",
    "#### Posterior\n",
    "\n",
    "$ p(\\mu|D) \\propto p(D|\\mu, \\sigma^2)p(\\mu|\\mu_0, \\sigma_0^2) $"
   ]
  },
  {
   "cell_type": "markdown",
   "metadata": {},
   "source": [
    "#### 公式推导\n",
    "\n",
    "$$\\begin{align}\n",
    "p(\\mu|D) & \\propto p(D|\\mu, \\sigma^2)p(\\mu|\\mu_0, \\sigma_0^2) \\\\\n",
    "& \\triangleq \\bigg(\\dfrac{1}{(2\\pi\\sigma^2)^{N/2}} \\exp\\Big\\{-\\dfrac{1}{2\\sigma^2} \\sum_{n=1}^N(x_n - \\mu)^2 \\Big\\}\\bigg) \\bigg( \\dfrac{1}{(2\\pi\\sigma_0^2)^{1/2}} \\exp\\Big\\{-\\dfrac{1}{2\\sigma_0^2}(\\mu - \\mu_0)^2\\Big\\} \\bigg)\\\\\n",
    "& = \\dfrac{1}{(2\\pi\\sigma^2)^{N/2}(2\\pi\\sigma_0^2)^{1/2}}\\exp\\Big\\{-\\dfrac{1}{2\\sigma^2} \\sum_{n=1}^N(x_n - \\mu)^2 -\\dfrac{1}{2\\sigma_0^2}(\\mu - \\mu_0)^2\\Big\\} \\\\\n",
    "& \\propto \\exp\\Big\\{-\\dfrac{1}{2\\sigma^2} \\sum_{n=1}^N(x_n - \\mu)^2 -\\dfrac{1}{2\\sigma_0^2}(\\mu - \\mu_0)^2\\Big\\} \\tag{参见注释1} \\\\\n",
    "& = \\exp\\Big\\{-\\dfrac{1}{2\\sigma^2}\\sum_{n=1}^N\\big(x_n^2 + \\mu^2 - 2x_n\\mu\\big) - \\dfrac{1}{2\\sigma_0^2}\\big(\\mu^2 + \\mu_0^2 - 2\\mu\\mu_0\\big) \\Big\\} \\\\\n",
    "& \\propto \\exp\\Big\\{ -\\dfrac{\\mu^2}{2}\\Big( \\dfrac{1}{\\sigma_0^2} + \\dfrac{n}{\\sigma^2} \\Big) + \\mu\\Big( \\dfrac{\\mu_0}{\\sigma_0^2} + \\dfrac{\\sum_{n=1}^Nx_i}{\\sigma^2} \\Big) - \\Big(\\dfrac{\\mu_0^2}{2\\sigma_0^2} + \\dfrac{\\sum_{n=1}^Nx_i^2}{2\\sigma^2} \\Big) \\Big\\} \\\\\n",
    "\\end{align}$$\n",
    "\n",
    "我们期望的高斯分布的形式为：\n",
    "\n",
    "$$\\begin{align}\n",
    "p(\\mu|D) & \\triangleq \\exp\\Big\\{ -\\dfrac{1}{2\\sigma_n^2}\\Big(\\mu-\\mu_n \\Big)^2 \\Big\\}\\\\\n",
    "& = \\exp \\Big\\{ -\\dfrac{1}{2\\sigma_n^2} \\Big( \\mu^2 -2\\mu\\mu_n + \\mu_n^2 \\Big) \\Big\\} \n",
    "\\end{align}$$+"
   ]
  },
  {
   "cell_type": "markdown",
   "metadata": {},
   "source": [
    "我们逐项对应：\n",
    "\n",
    "$$\\begin{align}\n",
    "\\dfrac{1}{\\sigma_n^2} & = \\dfrac{1}{\\sigma_0^2} + \\dfrac{n}{\\sigma^2} \\\\\n",
    "\\mu_n & =(\\dfrac{n\\bar{x}}{\\sigma^2} + \\dfrac{\\mu_0}{\\sigma_0^2}) \\sigma_n^2 \\tag{$\\sum_ix_i = \\bar{x}$} \\\\\n",
    "& = \\dfrac{n\\sigma_0^2}{n\\sigma_0^2+\\sigma^2}\\bar{x} + \\dfrac{\\sigma^2}{n\\sigma_0^2+\\sigma_2}\\mu_0\n",
    "\\end{align}$$\n",
    "\n",
    "这里也有用$\\mu_{ML}$来代替$\\bar{x}$\n",
    "当n=0, $\\mu_n = \\mu_0$,这是我们所期待的，在缺少数据的时候，这符合我们先验的假设。当$n \\to \\infty$时 $\\mu_N = \\bar{x}$, 是正确的期望值."
   ]
  },
  {
   "cell_type": "markdown",
   "metadata": {},
   "source": [
    "#### 1.3 Posterior predictive\n",
    "\n",
    "In Bayesian inference, the posterior predictive is $p(D'|D)$, with $D'$ is unseen datas. \n",
    "\n",
    "$$\\begin{align}\n",
    "p(D'|D) &= \\int p(D'|D, \\mu)p(\\mu|D)d\\mu \\\\\n",
    "& \\stackrel{*}{=} \\int p(D'| \\mu) p(\\mu|D)d\\mu \\\\\n",
    "& \\triangleq \\int \\mathcal{N}(D'|\\mu, \\sigma^2) \\mathcal{N}(\\mu|\\mu_N, \\sigma_N^2)d\\mu \\\\\n",
    "\\end{align}$$\n",
    "\n",
    "where step $*$ holds becuase the modeling assumption is that $D'$ is conditionally independent from $D$ given $\\mu$ or that $p(D'|D, \\mu) = p(D'|\\mu)$"
   ]
  },
  {
   "cell_type": "markdown",
   "metadata": {},
   "source": [
    "since both our posterior and prior are Gaussians, we can use the following fact:\n",
    "$$\\begin{align} \n",
    "p(x) &= \\mathcal{N}(x|\\mu, \\Psi) \\\\\n",
    "p(y|x) &= \\mathcal{N}(y|Ax + b, P) \\\\\n",
    "& \\downarrow \\\\\n",
    "p(y) &= \\mathcal{N}(y|A\\mu + b, P+A\\Psi A^\\intercal) \\\\\n",
    "\\end{align}$$\n",
    "\n",
    "$$\\begin{align}\n",
    "x & = \\mu \\\\\n",
    "\\mu &= \\mu_N \\\\\n",
    "\\Psi &= \\sigma_N^2 \\\\\n",
    "y &= D'\\\\\n",
    "A &= 1 \\\\\n",
    "b &= 0 \\\\\n",
    "P &= \\sigma^2\n",
    "\\end{align}$$"
   ]
  },
  {
   "cell_type": "markdown",
   "metadata": {},
   "source": [
    "最后我们得到： $P(D'| D) = \\mathcal{N}(D'| \\mu_N, \\sigma^2 + \\sigma_N^2)$"
   ]
  },
  {
   "cell_type": "markdown",
   "metadata": {},
   "source": [
    "\n",
    "## 2 Estimating $\\sigma^2$ with known $\\mu$\n",
    "\n",
    "It is common to work with the precision of a Gaussian, $\\lambda \\triangleq \\dfrac{1}{\\sigma^2}$. The reason is that many terms in the Gaussian have $\\sigma^2$ in a denominator. "
   ]
  },
  {
   "cell_type": "markdown",
   "metadata": {},
   "source": [
    "#### 2.1 Likelihood, prior and posterior\n",
    "\n",
    "#### Likelihood  \n",
    "\n",
    "$$\\begin{align}\n",
    "p(D|\\mu, \\lambda) &= \\prod_{n=1}^Np(x_n|\\mu, \\lambda) \\\\\n",
    "& \\triangleq \\prod_{n=1}^N\\bigg( \\dfrac{\\lambda^{1/2}}{(2\\pi)^{1/2}} \\exp\\Big\\{ -\\dfrac{\\lambda}{2}(x_n - \\mu)^2\\Big\\} \\bigg) \\\\\n",
    "&= \\dfrac{\\lambda^{N/2}}{(2\\pi)^{N/2}}\\exp\\Big\\{ -\\dfrac{\\lambda}{2}(x_n - \\mu)^2\\Big\\} \\\\\n",
    "\\end{align}$$\n",
    "\n",
    "#### Prior\n",
    "\n",
    "Now we want prior that has a function form that is $\\lambda$ to some power times the exponent of a __linear function__ of $\\lambda$\n",
    "\n",
    "$$  \\overbrace{gamma}^{posterior} \\propto \\overbrace{normal}^{likelihood} \\times \\overbrace{gamma}^{prior}  $$\n",
    "\n",
    "这里我们使用$a_0, b_0$作为先验$Gamma$的初始参数\n",
    "\n",
    "#### 推导过程:\n",
    "\n",
    "$$\\begin{align}\n",
    "p(\\lambda|D) & = p(D|\\lambda, \\mu)p(\\lambda) \\\\\n",
    "& \\triangleq \\bigg( \\dfrac{\\lambda^{N/2}}{(2\\pi)^{N/2}}\\exp\\Big\\{ -\\dfrac{\\lambda}{2}\\sum_{n=1}^N(x_n-\\mu)^2 \\Big\\} \\bigg) \\bigg( \\dfrac{1}{\\Gamma(a_0)}b_0^{a_0}\\lambda^{a_0-1}\\exp{(-b_0\\lambda)}\\bigg) \\\\\n",
    "& \\propto \\bigg( \\lambda^{N/2}\\exp\\Big\\{ -\\lambda\\sum_{n=1}^N(x_n-\\mu)^2 \\Big\\} \\bigg) \\bigg( \\lambda^{a_0-1}\\exp{(-b_0\\lambda)}\\bigg) \\\\\n",
    "& = \\lambda^{N/2+a_0-1}\\exp\\bigg\\{ -\\lambda \\Big( b_0 +\\sum_{n=1}^N (x_n - \\mu)^2 \\Big) \\bigg\\} \\tag{参见注释2}\\\\\n",
    "\\end{align}$$\n",
    "\n",
    "__we see another distribution in gamma form__"
   ]
  },
  {
   "cell_type": "markdown",
   "metadata": {},
   "source": [
    "Compute the $a_N, b_N$:\n",
    "$$\\begin{align}\n",
    "a_N &= \\dfrac{N}{2}+ a_0 \\\\\n",
    "b_N & = b_0 + \\dfrac{N}{2}\\sigma_{ML}^2\n",
    "\\end{align}$$\n",
    "\n",
    "where $\\sigma_{ML}^2 = \\dfrac{1}{N}\\sum_{n=1}^N(x_n-\\mu)^2$"
   ]
  },
  {
   "cell_type": "markdown",
   "metadata": {},
   "source": [
    "这里得出的$\\lambda$即$\\dfrac{1}{\\sigma^2}$\n",
    "Gamma 分布一般有三个形式\n",
    "- With a shape parameter k and a scale parameter θ.\n",
    "- With a shape parameter α = k and an inverse scale parameter β = 1/θ, called a rate parameter.\n",
    "- With a shape parameter k and a mean parameter μ = kθ = α/β.\n",
    "\n",
    "Python scipy gamma function 使用的是parameter k and a scale parameter θ， 我们在使用scipy.stats.gamma的时候，做如下调整\n",
    "\n",
    "- 使用Gamma, 注意，此处使用pdf不推荐，因为$ x= \\dfrac{1}{\\sigma^2}$   \n",
    "```python  \n",
    "    def rvs(self, size):\n",
    "        lamda =  st.gamma(a=self.a, scale=1/self.b).rvs(size)\n",
    "        return np.sqrt(1/lamda)\n",
    "\n",
    "    def pdf(self, x):\n",
    "        return st.gamma(a=self.a, scale=1/self.b).pdf(x)\n",
    "```  \n",
    "\n",
    "- 使用inv-Gamma (推荐)\n",
    "```python\n",
    "    def pdf2(self, x):\n",
    "        return st.invgamma(a=self.a, scale=self.b).pdf(x)  \n",
    "```\n",
    "  \n",
    "\n",
    "\n",
    "If X ∼ Gamma ( α , β ) (Gamma distribution with rate parameter β )then 1/X ∼ Inv-Gamma ( α , β )  \n",
    "If X ~ Gamma(k, θ) (Gamma distribution with scale parameter θ ) then 1/X ~ Inv-Gamma(k, θ−1)  \n",
    "\n",
    "\n",
    "ref:  \n",
    "1. https://en.wikipedia.org/wiki/Inverse-gamma_distribution\n",
    "2. https://en.wikipedia.org/wiki/Gamma_distribution"
   ]
  },
  {
   "cell_type": "markdown",
   "metadata": {},
   "source": [
    "## 3 Estimating both $\\mu$ and $\\sigma^2$"
   ]
  },
  {
   "cell_type": "markdown",
   "metadata": {},
   "source": [
    "We need to think about what form this should be. Note we can decopose our prior as $p(\\mu, \\lambda) = p(\\mu|\\lambda)p(\\lambda)$. This means we can use the results from the previous two sections: $\\underline{p(\\mu|\\lambda)}$ will be __Gaussian__ distribution and $\\underline{p(\\lambda)}$ will be a __gamma__ distribution. This is known as a normal-gamma or Gaussian-gamma:  \n",
    "  \n",
    "  \n",
    "$$ p(\\mu, \\lambda) = \\mathcal{N}(\\mu|a, b)Gamma(\\lambda|c, d)$$\n",
    "\n",
    "\n"
   ]
  },
  {
   "cell_type": "markdown",
   "metadata": {},
   "source": [
    "#### Prior for mean & Variance\n",
    "Note: below are from coursera course (https://www.coursera.org/lecture/bayesian/the-normal-gamma-conjugate-family-ncApT).   \n",
    "\n",
    "* Conditional prior: $p(\\mu|\\sigma^2) \\sim \\mathcal{N}(m_0, \\sigma^2/n_0)$   \n",
    "也就是我们假设$\\mu$是$\\sigma$的条件概率, $m_0$是先验的均值, $\\sigma^2$是先验方差，$n_0$可以理解为先验的样本数量\n",
    "\n",
    "* precision: $\\phi = 1/\\sigma^2$ (注意，我们引用原课件内的命名，跟上面的$\\lambda$其实一致)\n",
    "\n",
    "* conjugate prior for $\\phi$: Gamma distribution   \n",
    "$\\phi \\sim \\mathcal{Gamma}(v_0/2, s_0^2v_0/2)$  \n",
    "等同于$1/\\sigma^2 \\sim \\mathcal{Gamma}(v_0/2, s_0^2v_0/2)$  \n",
    "这里$v_0$是先验自由度, $s_0^2$是先验的方差  \n",
    "* Put Together, $p(\\mu, \\phi) \\sim \\mathcal{NormalGamma}(m_0, n_0, s_0^2, v_0)$\n"
   ]
  },
  {
   "cell_type": "markdown",
   "metadata": {},
   "source": [
    "#### Conjuate posterior distribution\n",
    "* prior $p(\\mu, \\phi) \\sim \\mathcal{NormalGamma}(m_0, n_0, s_0^2, v_0) $\n",
    "* posterior prior $p(\\mu, \\phi) \\sim \\mathcal{NormalGamma}(m_n, n_n, s_n^2, v_n) $  \n",
    "注意到他们的分布形式相同，参数发生变化。\n",
    "下标n表示采集了n个观察数据后，$m_n, n_n, s_n^2, v_n$表达后验均值，个数，方差和自由度。(自由度=个数-1），如$s_n^2$是在收集到n个观察数据后，重新计算而得到的方差，这时可以理解为计算后的后验方差，也是下一个迭代的先验方差\n",
    "* 更新计算公式  \n",
    "$\\begin{align}\n",
    "m_n &= \\dfrac{n\\bar{Y} + n_0m_0}{n+n_0} \\\\\n",
    "n_n &= n_0 + n \\\\\n",
    "v_n &= v_n + n \\\\\n",
    "s_n^2 &= \\dfrac{1}{v_n} \\Big [ s_0^2v_0 + s^2(n-1) + \\dfrac{n_0n}{n_n}\\Big(\\bar{Y} - m_0 \\Big)^2\\Big]\n",
    "\\end{align}$  \n",
    "$\\bar{Y}$是新的观察数据\n"
   ]
  },
  {
   "cell_type": "markdown",
   "metadata": {},
   "source": [
    "#### inference about $\\mu$\n",
    "* joint distribution:\n",
    "$p(\\mu, \\phi|data) \\sim \\mathcal{NormalGamma}(m_n, n_n, s_n^2, v_n)$\n",
    "* 等同于一个层次化的模型，先算$\\sigma$，后算$\\mu$  \n",
    "$\\begin{align}\n",
    "p(\\mu|data, \\sigma^2) &\\sim \\mathcal{N}(m_n, \\sigma^2/n_n) \\\\\n",
    "p(1/\\sigma^2|data) &\\sim \\mathcal{Gamma}(v_n/2, s_n^2v_n/2)\n",
    "\\end{align}$\n",
    "* 如果我们只关注在$\\mu$上的话，等同于  \n",
    "$p(\\mu|data) \\sim t(v_n, m_n, s_n^2/n_n) \\Longleftrightarrow t= \\dfrac{\\mu-m_n}{s_n/\\sqrt{n_n}} \\sim t(v_n, 0, 1)$"
   ]
  },
  {
   "cell_type": "markdown",
   "metadata": {},
   "source": [
    "### 注释：\n",
    "\n",
    "1. 这里忽略的前置，对于未知变量$\\mu$的求解没有影响,对于高斯分布相乘的具体展开参见: Products and Convolutions of Gaussian Probability Density Functions, 以下为公式摘要:  \n",
    "\n",
    "$$\\begin{align}\n",
    "f(x) &= \\dfrac{1}{(2\\pi\\sigma_f^2)^{1/2}} \\exp\\bigg(-\\dfrac{(x-\\mu_f)^2}{2\\sigma_f^2}\\bigg) \\\\\n",
    "g(x) &= \\dfrac{1}{(2\\pi\\sigma_g^2)^{1/2}} \\exp\\bigg(-\\dfrac{(x-\\mu_g)^2}{2\\sigma_g^2}\\bigg) \\\\\n",
    "\\\\\n",
    "f(x)g(x) &\\sim \\mathcal{N}(\\mu_{fg}, \\sigma_{fg}^2) \\\\\n",
    "\\\\\n",
    "\\sigma_{fg}^2 &= \\dfrac{\\sigma_f^2\\sigma_g^2}{\\sigma_f^2 + \\sigma_g^2} \\\\\n",
    "\\\\\n",
    "\\mu_{fg} &= \\dfrac{\\mu_f\\sigma_g^2 + \\mu_g\\sigma_f^2}{\\sigma_f^2+\\sigma_g^2}\n",
    "\\end{align}$$\n",
    "\n",
    "2. Gamma distribution with hyperpameters $a$ and $b$:\n",
    "\n",
    "$$ Gamma(\\lambda|a, b) = \\dfrac{1}{\\Gamma(a)} b^{a}\\lambda^{a-1}\\exp(-b\\lambda)$$\n",
    "\n",
    "where $\\Gamma(a) $ is just a normalizing constant that doesn't depend on $\\lambda$. "
   ]
  }
 ],
 "metadata": {
  "kernelspec": {
   "display_name": "Python 3",
   "language": "python",
   "name": "python3"
  },
  "language_info": {
   "codemirror_mode": {
    "name": "ipython",
    "version": 3
   },
   "file_extension": ".py",
   "mimetype": "text/x-python",
   "name": "python",
   "nbconvert_exporter": "python",
   "pygments_lexer": "ipython3",
   "version": "3.8.6"
  }
 },
 "nbformat": 4,
 "nbformat_minor": 4
}
