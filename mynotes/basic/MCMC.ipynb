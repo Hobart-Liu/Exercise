{
 "cells": [
  {
   "cell_type": "markdown",
   "metadata": {},
   "source": [
    "我们先来看马氏链的一个具体的例子。社会学家经常把人按其经济状况分成3类：下层(lower-class)、中层(middle-class)、上层(upper-class)，我们用1,2,3 分别代表这三个阶层。社会学家们发现决定一个人的收入阶层的最重要的因素就是其父母的收入阶层。如果一个人的收入属于下层类别，那么他的孩子属于下层收入的概率是 0.65, 属于中层收入的概率是 0.28, 属于上层收入的概率是 0.07。事实上，从父代到子代，收入阶层的变化的转移概率如下:\n",
    "\n",
    "$ \\begin {array} {c|ccc}\n",
    "\\text {父\\子}&class 1&class 2&class 3\\\\\n",
    "\\hline \n",
    "class 1 & 0.65 & 0.28 & 0.07 \\\\\n",
    "class 2 & 0.15 & 0.67 & 0.18 \\\\\n",
    "class 3 & 0.12 & 0.36 & 0.52 \\\\\n",
    "\\end{array}$\n",
    "\n",
    "转移矩阵\n",
    "\n",
    "$\\displaystyle p = \\begin{bmatrix} 0.65 & 0.28 & 0.07 \\\\ 0.15 & 0.67 & 0.18 \\\\ 0.12 & 0.36 & 0.52 \\\\ \\end{bmatrix} $\n",
    "\n"
   ]
  },
  {
   "cell_type": "markdown",
   "metadata": {},
   "source": [
    "假设当前这一代人处在下层、中层、上层的人的比例是概率分布向量 $ \\pi_0=[\\pi_0(1),\\pi_0(2),\\pi_0(3)] $，那么他们的子女的分布比例将是 $\\pi_1 = \\pi_0 P$, 他们的孙子代的分布比例将是 $\\pi_2=\\pi_1 P = \\pi_0 P^2$, ......, 第n代子孙的收入分布比例将是 $\\pi_n = \\pi_0 P^n$"
   ]
  },
  {
   "cell_type": "markdown",
   "metadata": {},
   "source": [
    "假设初始分布为$\\pi_0=[0.21,0.68,0.11]$ 经过n代人后，分布为[0.286， 0.489， 0.225], 从第七代开始，这个分布就稳定不变了。如果用其他的初始分布，发现最终都收敛到分布概率$\\pi=[0.286, 0.489, 0.225]$\n",
    "\n",
    "$P^{20} = P^{21} = ... = P^{100} = \\begin{bmatrix} 0.286 & 0.489 & 0.225 \\\\ 0.286 & 0.489 & 0.225 \\\\0.286 & 0.489 & 0.225 \\\\ \\end{bmatrix}$"
   ]
  },
  {
   "cell_type": "markdown",
   "metadata": {},
   "source": [
    "**马氏链定理**： 如果一个非周期马氏链具有转移概率矩阵P,且它的任何两个状态是连通的，那么 $\\displaystyle\\lim_{n \\to \\infty} P_{ij}^n$ 存在且与$i$无关，记 $\\displaystyle\\lim_{n \\to \\infty}P^n_{ij}=\\pi(j)$, 我们有"
   ]
  },
  {
   "cell_type": "markdown",
   "metadata": {},
   "source": [
    "$\n",
    "\\displaystyle \\lim_{n \\rightarrow \\infty} P^n =\\begin{bmatrix} \n",
    "\\pi(1) & \\pi(2) & \\cdots & \\pi(j) & \\cdots \\\\ \n",
    "\\pi(1) & \\pi(2) & \\cdots & \\pi(j) & \\cdots \\\\ \n",
    "\\cdots & \\cdots & \\cdots & \\cdots & \\cdots \\\\ \n",
    "\\pi(1) & \\pi(2) & \\cdots & \\pi(j) & \\cdots \\\\ \n",
    "\\cdots & \\cdots & \\cdots & \\cdots & \\cdots \\\\ \n",
    "\\end{bmatrix}\n",
    "$"
   ]
  },
  {
   "cell_type": "markdown",
   "metadata": {},
   "source": [
    "$ \\displaystyle \\pi(j) = \\sum_{i=0}^{\\infty}\\pi(i)P_{ij}$"
   ]
  },
  {
   "cell_type": "markdown",
   "metadata": {},
   "source": [
    "$\\displaystyle \\pi = [\\pi(1), \\pi(2), \\cdots, \\pi(j),\\cdots ], \\quad \\sum_{i=0}^{\\infty} \\pi_i = 1$"
   ]
  },
  {
   "cell_type": "markdown",
   "metadata": {},
   "source": [
    "### Markov Chain\n",
    "\n",
    "就是在已知过程”现在“的条件下，其”将来“不依赖于过去。\n",
    "\n",
    "Markov Chain 通常用条件分布率来表示，定义为 $P(X_{m+n} = a_j \\mid X_{t_1}=a_{i_1}, X_{t_2}=a_{i_2},\\cdots, X_{t_r}=a_{i_r},X_{t_m}=a_{i}) = P(X_{m+n} = a_j \\mid X_m = a_i)$ \n",
    "\n",
    "$P_{ij}(m, m+n) = P(X_{m+n}=a_j \\mid X_m=a_i) $ 为马氏链在时刻m处于状态$a_i$条件下，在时刻 m+n 转移到状态$a_j$的转移概率. \n",
    "\n",
    "Note: 我们定义链的状态空间, 即X可取值的范围。 $ I = \\lbrace a_1, a_2, \\cdots \\rbrace, a_i \\in \\Bbb R $。 其概率就时落在某则状态$a_x$上的可能性。转换概率就是有多少$a_x$ 变化到$a_y$\n",
    "\n",
    "由于链在时刻m从任何一个状态$a_i$出发，到另一个时刻m+n，必然转移到诸如$a_1, a_2, \\cdots$ 诸状态中的某一个，所以\n",
    "\n",
    "$\\displaystyle \\sum_{j=1}^{+\\infty} P_{ij}(m, m+n) = 1, i=1,2,\\cdots $\n",
    "\n",
    "即从状态i出发，经过n步后，所有分散在状态j上各个取值的概率和为1。\n",
    "\n",
    "下表为一步转移概率矩阵，step m -> step m+1\n",
    "\n",
    "$\n",
    "\\begin {array}{c|ccccc}\n",
    "\\text {}&a_1&a_2&\\cdots&a_j&\\cdots\\\\\n",
    "\\hline \n",
    "a_1    & p11    & p12    & \\cdots & p1j    & \\cdots \\\\\n",
    "a_2    & p21    & p22    & \\cdots & p2j    & \\cdots \\\\\n",
    "\\cdots & \\cdots & \\cdots & \\cdots & \\cdots & \\cdots \\\\\n",
    "a_i    & pi1    & pi1    & \\cdots & pij    & \\cdots \\\\\n",
    "\\cdots & \\cdots & \\cdots & \\cdots & \\cdots & \\cdots \\\\\n",
    "\\end{array}\n",
    "$ = P(1)"
   ]
  },
  {
   "cell_type": "markdown",
   "metadata": {},
   "source": [
    "** Markov Chain Monte Carlo **\n",
    "\n",
    "对于给定的概率分布p(x),我们希望能有便捷的方式生成它对应的样本。由于马氏链能收敛到平稳分布， 于是一个很的漂亮想法是：如果我们能构造一个转移矩阵为P的马氏链，使得该马氏链的平稳分布恰好是p(x), 那么我们从任何一个初始状态$x_0$出发沿着马氏链转移, 得到一个转移序列 $x_0, x_1, x_2, \\cdots x_n, x_{n+1}\\cdots,$， **如果马氏链在第n步已经收敛了，于是我们就得到了 $\\pi(x)$ 的样本$x_n, x_{n+1}\\cdots$。**\n",
    "\n"
   ]
  },
  {
   "cell_type": "markdown",
   "metadata": {},
   "source": [
    "** 实验 **\n",
    "\n",
    "假设从cauchy 分布中采样数据, cauchy 分布的概率密度函数时 \n",
    "\n",
    "$ f(\\theta) = \\cfrac {1}{\\pi (1+\\theta^2)} $\n",
    "\n",
    "接受概率$\\alpha$的值为 \n",
    "\n",
    "$ \\alpha = \\min \\left( 1, \\cfrac{1+{\\theta^{(t)}}^2}{1+{\\theta^{(*)}}^2} \\right)$"
   ]
  },
  {
   "cell_type": "code",
   "execution_count": 13,
   "metadata": {
    "collapsed": true
   },
   "outputs": [],
   "source": [
    "import random\n",
    "from scipy.stats import norm\n",
    "import matplotlib.pyplot as plt"
   ]
  },
  {
   "cell_type": "code",
   "execution_count": 14,
   "metadata": {
    "collapsed": true
   },
   "outputs": [],
   "source": [
    "def cauchy(theta):\n",
    "    y = 1.0 / (1.0 + theta **2)\n",
    "    return y"
   ]
  },
  {
   "cell_type": "code",
   "execution_count": 15,
   "metadata": {
    "collapsed": false
   },
   "outputs": [],
   "source": [
    "T = 5000\n",
    "sigma = 1\n",
    "thetamin = -30\n",
    "thetamax = 30\n",
    "theta = [0.0] * (T+1)\n",
    "theta[0] = random.uniform(thetamin, thetamax)"
   ]
  },
  {
   "cell_type": "code",
   "execution_count": 16,
   "metadata": {
    "collapsed": false
   },
   "outputs": [],
   "source": [
    "t = 0\n",
    "while t<T:\n",
    "    t = t + 1\n",
    "    theta_star = norm.rvs(loc = theta[t-1], scale = sigma, size =1, random_state=None)\n",
    "    #print(theta_star)\n",
    "    alpha = min(1, (cauchy(theta_star[0])/cauchy(theta[t-1])))\n",
    "    \n",
    "    u = random.uniform(0,1)\n",
    "    if u <= alpha:\n",
    "        theta[t]= theta_star[0]\n",
    "    else:\n",
    "        theta[t] = theta[t-1]\n"
   ]
  },
  {
   "cell_type": "code",
   "execution_count": 17,
   "metadata": {
    "collapsed": false
   },
   "outputs": [
    {
     "data": {
      "image/png": "[encoded data removed]",
      "text/plain": [
       "<matplotlib.figure.Figure at 0x10c64ddd8>"
      ]
     },
     "metadata": {},
     "output_type": "display_data"
    }
   ],
   "source": [
    "ax1 = plt.subplot(211)\n",
    "ax2 = plt.subplot(212) \n",
    "plt.sca(ax1)\n",
    "plt.ylim(thetamin, thetamax)\n",
    "plt.plot(range(T+1), theta, 'g-')\n",
    "plt.sca(ax2)\n",
    "num_bins = 50\n",
    "plt.hist(theta, num_bins, normed=1, facecolor='red', alpha=0.5)\n",
    "plt.show()"
   ]
  },
  {
   "cell_type": "code",
   "execution_count": null,
   "metadata": {
    "collapsed": true
   },
   "outputs": [],
   "source": []
  }
 ],
 "metadata": {
  "kernelspec": {
   "display_name": "Python 3",
   "language": "python",
   "name": "python3"
  },
  "language_info": {
   "codemirror_mode": {
    "name": "ipython",
    "version": 3
   },
   "file_extension": ".py",
   "mimetype": "text/x-python",
   "name": "python",
   "nbconvert_exporter": "python",
   "pygments_lexer": "ipython3",
   "version": "3.6.0"
  }
 },
 "nbformat": 4,
 "nbformat_minor": 2
}
