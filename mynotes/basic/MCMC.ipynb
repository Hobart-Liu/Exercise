{
 "cells": [
  {
   "cell_type": "markdown",
   "metadata": {
    "deletable": true,
    "editable": true
   },
   "source": [
    "我们先来看马氏链的一个具体的例子。社会学家经常把人按其经济状况分成3类：下层(lower-class)、中层(middle-class)、上层(upper-class)，我们用1,2,3 分别代表这三个阶层。社会学家们发现决定一个人的收入阶层的最重要的因素就是其父母的收入阶层。如果一个人的收入属于下层类别，那么他的孩子属于下层收入的概率是 0.65, 属于中层收入的概率是 0.28, 属于上层收入的概率是 0.07。事实上，从父代到子代，收入阶层的变化的转移概率如下:\n",
    "\n",
    "$ \\begin {array} {c|ccc}\n",
    "\\text {父\\子}&class 1&class 2&class 3\\\\\n",
    "\\hline \n",
    "class 1 & 0.65 & 0.28 & 0.07 \\\\\n",
    "class 2 & 0.15 & 0.67 & 0.18 \\\\\n",
    "class 3 & 0.12 & 0.36 & 0.52 \\\\\n",
    "\\end{array}$\n",
    "\n",
    "转移矩阵\n",
    "\n",
    "$\\displaystyle p = \\begin{bmatrix} 0.65 & 0.28 & 0.07 \\\\ 0.15 & 0.67 & 0.18 \\\\ 0.12 & 0.36 & 0.52 \\\\ \\end{bmatrix} $\n",
    "\n"
   ]
  },
  {
   "cell_type": "markdown",
   "metadata": {
    "deletable": true,
    "editable": true
   },
   "source": [
    "假设当前这一代人处在下层、中层、上层的人的比例是概率分布向量 $ \\pi_0=[\\pi_0(1),\\pi_0(2),\\pi_0(3)] $，那么他们的子女的分布比例将是 $\\pi_1 = \\pi_0 P$, 他们的孙子代的分布比例将是 $\\pi_2=\\pi_1 P = \\pi_0 P^2$, ......, 第n代子孙的收入分布比例将是 $\\pi_n = \\pi_0 P^n$"
   ]
  },
  {
   "cell_type": "markdown",
   "metadata": {
    "deletable": true,
    "editable": true
   },
   "source": [
    "假设初始分布为$\\pi_0=[0.21,0.68,0.11]$ 经过n代人后，分布为[0.286， 0.489， 0.225], 从第七代开始，这个分布就稳定不变了。如果用其他的初始分布，发现最终都收敛到分布概率$\\pi=[0.286, 0.489, 0.225]$\n",
    "\n",
    "$P^{20} = P^{21} = ... = P^{100} = \\begin{bmatrix} 0.286 & 0.489 & 0.225 \\\\ 0.286 & 0.489 & 0.225 \\\\0.286 & 0.489 & 0.225 \\\\ \\end{bmatrix}$"
   ]
  },
  {
   "cell_type": "markdown",
   "metadata": {
    "deletable": true,
    "editable": true
   },
   "source": [
    "**马氏链定理**： 如果一个非周期马氏链具有转移概率矩阵P,且它的任何两个状态是连通的，那么 $\\displaystyle\\lim_{n \\to \\infty} P_{ij}^n$ 存在且与$i$无关，记 $\\displaystyle\\lim_{n \\to \\infty}P^n_{ij}=\\pi(j)$, 我们有"
   ]
  },
  {
   "cell_type": "markdown",
   "metadata": {
    "deletable": true,
    "editable": true
   },
   "source": [
    "$\n",
    "\\displaystyle \\lim_{n \\rightarrow \\infty} P^n =\\begin{bmatrix} \n",
    "\\pi(1) & \\pi(2) & \\cdots & \\pi(j) & \\cdots \\\\ \n",
    "\\pi(1) & \\pi(2) & \\cdots & \\pi(j) & \\cdots \\\\ \n",
    "\\cdots & \\cdots & \\cdots & \\cdots & \\cdots \\\\ \n",
    "\\pi(1) & \\pi(2) & \\cdots & \\pi(j) & \\cdots \\\\ \n",
    "\\cdots & \\cdots & \\cdots & \\cdots & \\cdots \\\\ \n",
    "\\end{bmatrix}\n",
    "$"
   ]
  },
  {
   "cell_type": "markdown",
   "metadata": {
    "deletable": true,
    "editable": true
   },
   "source": [
    "$ \\displaystyle \\pi(j) = \\sum_{i=0}^{\\infty}\\pi(i)P_{ij}$"
   ]
  },
  {
   "cell_type": "markdown",
   "metadata": {
    "deletable": true,
    "editable": true
   },
   "source": [
    "$\\displaystyle \\pi = [\\pi(1), \\pi(2), \\cdots, \\pi(j),\\cdots ], \\quad \\sum_{i=0}^{\\infty} \\pi_i = 1$"
   ]
  },
  {
   "cell_type": "markdown",
   "metadata": {
    "deletable": true,
    "editable": true
   },
   "source": [
    "### Markov Chain\n",
    "\n",
    "就是在已知过程”现在“的条件下，其”将来“不依赖于过去。\n",
    "\n",
    "Markov Chain 通常用条件分布率来表示，定义为 $P(X_{m+n} = a_j \\mid X_{t_1}=a_{i_1}, X_{t_2}=a_{i_2},\\cdots, X_{t_r}=a_{i_r},X_{t_m}=a_{i}) = P(X_{m+n} = a_j \\mid X_m = a_i)$ \n",
    "\n",
    "$P_{ij}(m, m+n) = P(X_{m+n}=a_j \\mid X_m=a_i) $ 为马氏链在时刻m处于状态$a_i$条件下，在时刻 m+n 转移到状态$a_j$的转移概率. \n",
    "\n",
    "Note: 我们定义链的状态空间, 即X可取值的范围。 $ I = \\lbrace a_1, a_2, \\cdots \\rbrace, a_i \\in \\Bbb R $。 其概率就时落在某则状态$a_x$上的可能性。转换概率就是有多少$a_x$ 变化到$a_y$\n",
    "\n",
    "由于链在时刻m从任何一个状态$a_i$出发，到另一个时刻m+n，必然转移到诸如$a_1, a_2, \\cdots$ 诸状态中的某一个，所以\n",
    "\n",
    "$\\displaystyle \\sum_{j=1}^{+\\infty} P_{ij}(m, m+n) = 1, i=1,2,\\cdots $\n",
    "\n",
    "即从状态i出发，经过n步后，所有分散在状态j上各个取值的概率和为1。\n",
    "\n",
    "下表为一步转移概率矩阵，step m -> step m+1\n",
    "\n",
    "$\n",
    "\\begin {array}{c|ccccc}\n",
    "\\text {}&a_1&a_2&\\cdots&a_j&\\cdots\\\\\n",
    "\\hline \n",
    "a_1    & p11    & p12    & \\cdots & p1j    & \\cdots \\\\\n",
    "a_2    & p21    & p22    & \\cdots & p2j    & \\cdots \\\\\n",
    "\\cdots & \\cdots & \\cdots & \\cdots & \\cdots & \\cdots \\\\\n",
    "a_i    & pi1    & pi1    & \\cdots & pij    & \\cdots \\\\\n",
    "\\cdots & \\cdots & \\cdots & \\cdots & \\cdots & \\cdots \\\\\n",
    "\\end{array}\n",
    "$ = P(1)"
   ]
  },
  {
   "cell_type": "markdown",
   "metadata": {
    "deletable": true,
    "editable": true
   },
   "source": [
    "** Markov Chain Monte Carlo **\n",
    "\n",
    "对于给定的概率分布p(x),我们希望能有便捷的方式生成它对应的样本。由于马氏链能收敛到平稳分布， 于是一个很的漂亮想法是：如果我们能构造一个转移矩阵为P的马氏链，使得该马氏链的平稳分布恰好是p(x), 那么我们从任何一个初始状态$x_0$出发沿着马氏链转移, 得到一个转移序列 $x_0, x_1, x_2, \\cdots x_n, x_{n+1}\\cdots,$， **如果马氏链在第n步已经收敛了，于是我们就得到了 $\\pi(x)$ 的样本$x_n, x_{n+1}\\cdots$。**\n",
    "\n",
    "细致平稳条件:对于任何2个状态，i,j，从i 转出去到j而丢失的概率质量，恰好会被从j转移会i 的概率质量补充回来.所以状态i上的概率质量$\\pi(i)$是稳定的. $\\pi(x) P_{ij} = \\pi(j)P_{ji}$     for all i, j"
   ]
  },
  {
   "cell_type": "markdown",
   "metadata": {
    "deletable": true,
    "editable": true
   },
   "source": [
    "假设我们有一个转移矩阵Q, q(i,j) 表示从状态i转移到状态j的概率，显然，通常情况下 $p(i)q(i,j) \\neq p(j)q(j,i)$, 也就是细致平稳条件不成立，所以p(x)不太可能是这个Markov chain的平稳分布。我们需要对markov chain做一个改造，引入$\\alpha(i,j)$,我们希望 $p(i)q(i,j)\\alpha(i,j) = p(j)q(j,i)\\alpha(j,i)$"
   ]
  },
  {
   "cell_type": "markdown",
   "metadata": {
    "deletable": true,
    "editable": true
   },
   "source": [
    "如果$\\alpha(i,j) = p(j)\\ q(j,i), \\alpha(j,i) = p(i)\\ q(i,j) $上述等式成立。于是就可以构造一个新的转移矩阵Q.\n",
    "\n",
    "$p(i)\\ \\underbrace{q(i,j)\\ \\alpha(i,j)}_{Q(i,j)} = p(j)\\ \\underbrace{q(j,i)\\ \\alpha(j,i)}_{Q(j,i)}$"
   ]
  },
  {
   "cell_type": "markdown",
   "metadata": {
    "deletable": true,
    "editable": true
   },
   "source": [
    "改造中引入的$\\alpha(i,j)$称为接受率，物理意义可以理解为在原来的markov chain上，从状态i以q(i,j) 发的概率转移到状态j时，我们以$\\alpha(i,j)$的概率接受这个转移，于是新的链的转移概率为$q(i,j)\\alpha(i,j)$. "
   ]
  },
  {
   "cell_type": "markdown",
   "metadata": {
    "deletable": true,
    "editable": true
   },
   "source": [
    "Recipe:\n",
    "\n",
    "1. 初始化马氏链，初始状态 $X_0=x_0$\n",
    "2. 对 t= 0, 1, 2,... 循环一下过程进行采样\n",
    "\n",
    "  - 第t个时刻Markov chain 的状态为$X_t=x_t$ 采样 $ y = q(x\\mid x_t)$\n",
    "  - 从均匀分布采样 $\\mu ~ Uniform[0,1]$\n",
    "  - 如果$\\mu < \\alpha(x_t, y) = p(y)\\ q(x_t\\mid y)$ 则接受转移$x_t \\to y$, 即 $X_{t+1} = y$\n",
    "  - 否则就不接受转移，即$X_{t+1} = x_t $"
   ]
  },
  {
   "cell_type": "markdown",
   "metadata": {
    "deletable": true,
    "editable": true
   },
   "source": [
    "以上的 MCMC 采样算法已经能很漂亮的工作了，不过它有一个小的问题：马氏链$Q$在转移的过程中的接受率 $\\alpha(i,j)$ 可能偏小，这样采样过程中马氏链容易原地踏步，拒绝大量的跳转，这使得马氏链遍历所有的状态空间要花费太长的时间，收敛到平稳分布$p(x)$的速度太慢。有没有办法提升一些接受率呢?"
   ]
  },
  {
   "cell_type": "markdown",
   "metadata": {
    "deletable": true,
    "editable": true
   },
   "source": [
    "假设 $\\alpha(i,j)=0.1, \\alpha(j,i)=0.2$, 此时满足细致平稳条件，于是 $p(i)q(i,j)\\times 0.1 = p(j)q(j,i)\\times 0.2$\n",
    "\n",
    "上式两边扩大5倍，我们改写为 $p(i)\\ q(i,j)\\times 0.5 = p(j)\\ q(j,i)\\times 1$\n",
    "\n",
    "看，我们提高了接受率，而细致平稳条件并没有打破！这启发我们可以把细致平稳条件式中的$\\alpha(i,j),\\alpha(j,i)$ 同比例放大，使得两数中最大的一个放大到1，这样我们就提高了采样中的跳转接受率。所以我们可以取 \n",
    "\n",
    "$$\\alpha(i,j) = min \\left( \\cfrac{p(j)q(j,i)}{p(i)q(i,j)}, 1 \\right) $$\n",
    "\n",
    "于是，经过对上述MCMC 采样算法中接受率的微小改造，我们就得到了如下教科书中最常见的 Metropolis-Hastings 算法。"
   ]
  },
  {
   "cell_type": "markdown",
   "metadata": {
    "deletable": true,
    "editable": true
   },
   "source": [
    "** Recipe **\n",
    "\n",
    "1. 初始化马氏链，初始状态 $X_0=x_0$\n",
    "2. 对 t= 0, 1, 2,... 循环一下过程进行采样\n",
    "\n",
    "  - 第t个时刻Markov chain 的状态为$X_t=x_t$ 采样 $ y = q(x\\mid x_t)$\n",
    "  - 从均匀分布采样 $\\mu ~ Uniform[0,1]$\n",
    "  - 如果$\\mu < \\alpha(x_t, y) = min \\left( \\cfrac{p(j)q(j,i)}{p(i)q(i,j)}, 1 \\right)$ 则接受转移$x_t \\to y$, 即 $X_{t+1} = y$\n",
    "  - 否则就不接受转移，即$X_{t+1} = x_t $"
   ]
  },
  {
   "cell_type": "markdown",
   "metadata": {
    "deletable": true,
    "editable": true
   },
   "source": [
    "** 实验 **\n",
    "\n",
    "采样 $p(x) = 0.3 \\times \\cfrac{exp(-(x-3)^2)}{10} + 0.7 \\times \\cfrac{exp(-(x-10)^2)}{3} $\n",
    "\n",
    "下面实现中不时很明白的是为什么要用一个$q(x)=\\cfrac{exp(-(x-\\mu)^2)}{\\sigma^2}$来仿真markov chain, 貌似第二中实现更吻合。问题的核心就是q(x)应该取啥。是不是任意一个符合Markov chain 定义的转移矩阵都是可以用的。"
   ]
  },
  {
   "cell_type": "code",
   "execution_count": 19,
   "metadata": {
    "collapsed": true,
    "deletable": true,
    "editable": true
   },
   "outputs": [],
   "source": [
    "from pylab import *\n",
    "from numpy import *  # note, both pylab and numpy has random function, so ensure you place numpy as the second import"
   ]
  },
  {
   "cell_type": "code",
   "execution_count": 20,
   "metadata": {
    "collapsed": true,
    "deletable": true,
    "editable": true
   },
   "outputs": [],
   "source": [
    "def p(x):\n",
    "    mu1 = 3\n",
    "    mu2 = 10\n",
    "    v1 = 10\n",
    "    v2 = 3\n",
    "    return 0.3*exp(-(x-mu1)**2/v1) + 0.7*exp(-(x-mu2)**2/v2)\n",
    "\n",
    "def q(x):\n",
    "    mu = 5\n",
    "    sigma = 10\n",
    "    return exp(-(x-mu)**2/sigma**2)"
   ]
  },
  {
   "cell_type": "code",
   "execution_count": 27,
   "metadata": {
    "collapsed": false,
    "deletable": true,
    "editable": true
   },
   "outputs": [],
   "source": [
    "stepsize = 0.5\n",
    "x = arange(-10,20,stepsize)\n",
    "px = zeros(shape(x))\n",
    "for i in range(len(x)):\n",
    "    px[i] = p(x[i])  # for draw\n",
    "\n",
    "N = 5000\n",
    "u = random.rand(N)\n",
    "mu = 5\n",
    "sigma = 10\n",
    "y = zeros(N)\n",
    "#y[0] = random.normal(mu, sigma)\n",
    "y[0] = 30.00"
   ]
  },
  {
   "cell_type": "code",
   "execution_count": 28,
   "metadata": {
    "collapsed": false,
    "deletable": true,
    "editable": true
   },
   "outputs": [],
   "source": [
    "for i in range(N-1):\n",
    "    ynew = random.normal(mu, sigma)\n",
    "    alpha = min(1, p(ynew)*q(y[i])/(p(y[i])*q(ynew)))\n",
    "    if u[i] < alpha:\n",
    "        y[i+1] = ynew\n",
    "    else:\n",
    "        y[i+1] = y[i]"
   ]
  },
  {
   "cell_type": "code",
   "execution_count": 30,
   "metadata": {
    "collapsed": false,
    "deletable": true,
    "editable": true
   },
   "outputs": [
    {
     "data": {
      "image/png": "[encoded data removed]",
      "text/plain": [
       "<matplotlib.figure.Figure at 0x113be36d8>"
      ]
     },
     "metadata": {},
     "output_type": "display_data"
    },
    {
     "data": {
      "image/png": "[encoded data removed]",
      "text/plain": [
       "<matplotlib.figure.Figure at 0x1130db320>"
      ]
     },
     "metadata": {},
     "output_type": "display_data"
    }
   ],
   "source": [
    "figure(1)\n",
    "nbins = 30\n",
    "hist(y, bins = x)\n",
    "plot(x, px*N/sum(px), color='g', linewidth=2)\n",
    "plot(x, q(x)*N/sum(px), color='r', linewidth=2)\n",
    "\n",
    "figure(2)\n",
    "plot(y)\n",
    "show()"
   ]
  },
  {
   "cell_type": "code",
   "execution_count": 31,
   "metadata": {
    "collapsed": true
   },
   "outputs": [],
   "source": [
    "u2 = random.rand(N)\n",
    "sigma = 10\n",
    "y2 = zeros(N)\n",
    "y2[0] = random.normal(0,sigma)\n",
    "for i in range(N-1):\n",
    "    y2new = y2[i] + random.normal(0,sigma)\n",
    "    alpha = min(1,p(y2new)/p(y2[i]))\n",
    "    if u2[i] < alpha:\n",
    "        y2[i+1] = y2new\n",
    "    else:\n",
    "        y2[i+1] = y2[i]"
   ]
  },
  {
   "cell_type": "code",
   "execution_count": 32,
   "metadata": {
    "collapsed": false
   },
   "outputs": [
    {
     "data": {
      "image/png": "[encoded data removed]",
      "text/plain": [
       "<matplotlib.figure.Figure at 0x1136c2ba8>"
      ]
     },
     "metadata": {},
     "output_type": "display_data"
    }
   ],
   "source": [
    "figure(1)\n",
    "nbins = 30\n",
    "hist(y2, bins = x)\n",
    "plot(x, px*N/sum(px), color='g', linewidth=2)\n",
    "\n",
    "show()"
   ]
  },
  {
   "cell_type": "code",
   "execution_count": null,
   "metadata": {
    "collapsed": true
   },
   "outputs": [],
   "source": []
  }
 ],
 "metadata": {
  "kernelspec": {
   "display_name": "Python 3",
   "language": "python",
   "name": "python3"
  },
  "language_info": {
   "codemirror_mode": {
    "name": "ipython",
    "version": 3
   },
   "file_extension": ".py",
   "mimetype": "text/x-python",
   "name": "python",
   "nbconvert_exporter": "python",
   "pygments_lexer": "ipython3",
   "version": "3.6.0"
  }
 },
 "nbformat": 4,
 "nbformat_minor": 2
}
