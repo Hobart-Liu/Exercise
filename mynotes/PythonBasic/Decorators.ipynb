{
 "cells": [
  {
   "cell_type": "code",
   "execution_count": 1,
   "metadata": {},
   "outputs": [
    {
     "name": "stdout",
     "output_type": "stream",
     "text": [
      "successor 11\n",
      "succ 11\n",
      "after del succ\n",
      "successor 11\n"
     ]
    }
   ],
   "source": [
    "# a simple start \n",
    "def succ(x):\n",
    "    return x+1\n",
    "\n",
    "successor = succ\n",
    "print(\"successor\", successor(10))\n",
    "print(\"succ\", succ(10))\n",
    "\n",
    "# we can delete either succ or successor\n",
    "print(\"after del succ\")\n",
    "del succ\n",
    "print(\"successor\", successor(10))\n"
   ]
  },
  {
   "cell_type": "code",
   "execution_count": 2,
   "metadata": {},
   "outputs": [
    {
     "name": "stdout",
     "output_type": "stream",
     "text": [
      "this is f\n",
      "this is g\n"
     ]
    }
   ],
   "source": [
    "# function inside function\n",
    "\n",
    "def f():\n",
    "    def g():\n",
    "        print(\"this is g\")\n",
    "    \n",
    "    print(\"this is f\")\n",
    "    g()\n",
    "    \n",
    "f()"
   ]
  },
  {
   "cell_type": "code",
   "execution_count": 3,
   "metadata": {},
   "outputs": [
    {
     "name": "stdout",
     "output_type": "stream",
     "text": [
      "It's 68.0 degrees!\n"
     ]
    }
   ],
   "source": [
    "# another \"proper\" return statements in the function\n",
    "def temperature(t):\n",
    "    def celsius2fahrenheit(x):\n",
    "        return 9 * x / 5 + 32\n",
    "\n",
    "    result = \"It's \" + str(celsius2fahrenheit(t)) + \" degrees!\" \n",
    "    return result\n",
    "\n",
    "print(temperature(20))"
   ]
  },
  {
   "cell_type": "code",
   "execution_count": 5,
   "metadata": {},
   "outputs": [
    {
     "name": "stdout",
     "output_type": "stream",
     "text": [
      "Hi, it's me 'f'\n",
      "Hi, it's me 'g'\n",
      "func's real name is  g\n"
     ]
    }
   ],
   "source": [
    "# functoin as parameter\n",
    "def g():\n",
    "    print(\"Hi, it's me 'g'\")\n",
    "    \n",
    "def f(func):\n",
    "    print(\"Hi, it's me 'f'\")\n",
    "    func()\n",
    "    print(\"func's real name is \", func.__name__)\n",
    "          \n",
    "f(g)"
   ]
  },
  {
   "cell_type": "markdown",
   "metadata": {},
   "source": [
    "Function return function\n",
    "外部的function, 就好像一个factory， 构造出不同的功能函数\n",
    "\n",
    "例如，我们定义 $ p(x) = a x^2 + b x + c$\n",
    "\n",
    "取不同的a,b,c 时，返回不同的函数"
   ]
  },
  {
   "cell_type": "code",
   "execution_count": 7,
   "metadata": {},
   "outputs": [
    {
     "name": "stdout",
     "output_type": "stream",
     "text": [
      "4\n",
      "2\n"
     ]
    }
   ],
   "source": [
    "# function return function \n",
    "\n",
    "def polynomial_creator(a, b, c):\n",
    "    def polynomial(x):\n",
    "        return a * x**2 + b * x + c\n",
    "    return polynomial\n",
    "    \n",
    "p1 = polynomial_creator(2, 3, -1)\n",
    "# p1 =  2*(x**2) + 3*x -1\n",
    "p2 = polynomial_creator(-1, 2, 1)\n",
    "# p2 = -1*(x**2) + 2*x + 1\n",
    "\n",
    "print( p1(x=1) )\n",
    "print( p2(x=1) )"
   ]
  },
  {
   "cell_type": "code",
   "execution_count": 11,
   "metadata": {},
   "outputs": [
    {
     "name": "stdout",
     "output_type": "stream",
     "text": [
      "foo: Hi, foo has been called with Hi\n",
      "------decorate------\n",
      "our_decorator: Before calling  foo\n",
      "foo: Hi, foo has been called with 42\n",
      "our_decorator: After calling  foo\n"
     ]
    }
   ],
   "source": [
    "# 我们开始正式使用Decorator, 首先是一个简单的wrapper\n",
    "\n",
    "def our_decorator(func):\n",
    "    def function_wrapper(x):\n",
    "        print(\"our_decorator: Before calling \", func.__name__)\n",
    "        func(x)\n",
    "        print(\"our_decorator: After calling \", func.__name__)\n",
    "    return function_wrapper\n",
    "\n",
    "def foo(x):\n",
    "    print(\"foo: Hi, foo has been called with \" + str(x))\n",
    "\n",
    "foo(\"Hi\")\n",
    "\n",
    "print(\"decorate\".center(20,\"-\"))\n",
    "\n",
    "foo = our_decorator(foo)\n",
    "foo(42)"
   ]
  },
  {
   "cell_type": "code",
   "execution_count": 17,
   "metadata": {},
   "outputs": [
    {
     "name": "stdout",
     "output_type": "stream",
     "text": [
      "Before calling foo\n",
      "Hi, foo has been called with Hi\n",
      "After calling foo\n",
      "Before calling succ\n",
      "After calling succ\n",
      "11\n"
     ]
    }
   ],
   "source": [
    "# a proper way of using decorator\n",
    "\n",
    "def our_decorator(func):\n",
    "    def function_wrapper(x):\n",
    "        print(\"Before calling \" + func.__name__)\n",
    "        res = func(x)\n",
    "        print(\"After calling \" + func.__name__)\n",
    "        return res\n",
    "    return function_wrapper\n",
    "\n",
    "@our_decorator\n",
    "def foo(x):\n",
    "    print(\"Hi, foo has been called with \" + str(x))\n",
    "\n",
    "foo(\"Hi\")\n",
    "\n",
    "\n",
    "@our_decorator\n",
    "def succ(n):\n",
    "    return n + 1\n",
    "print(succ(10))"
   ]
  },
  {
   "cell_type": "code",
   "execution_count": 21,
   "metadata": {},
   "outputs": [
    {
     "name": "stdout",
     "output_type": "stream",
     "text": [
      "Before calling a\n",
      "3\n",
      "After calling a\n",
      "Before calling b\n",
      "1\n",
      "After calling b\n"
     ]
    }
   ],
   "source": [
    "# a better version to handle multiple parameters\n",
    "\n",
    "def our_decorator(func):\n",
    "    def function_wrapper(*args, **kwargs):\n",
    "        print(\"Before calling \" + func.__name__)\n",
    "        res = func(*args, **kwargs)\n",
    "        print(res)\n",
    "        print(\"After calling \" + func.__name__)\n",
    "    return function_wrapper\n",
    "\n",
    "@our_decorator\n",
    "def a(x, y):\n",
    "    return x+y\n",
    "\n",
    "@our_decorator\n",
    "def b(x, y, zero_or_one):\n",
    "    return 0 if x+y <zero_or_one else 1\n",
    "\n",
    "\n",
    "a(1,2)\n",
    "\n",
    "\n",
    "b(1,2,1)\n"
   ]
  },
  {
   "cell_type": "markdown",
   "metadata": {},
   "source": [
    "Decorator 用例:\n",
    "1) 检查输入参数\n",
    "2) 统计 function calls\n",
    "3) "
   ]
  },
  {
   "cell_type": "code",
   "execution_count": 27,
   "metadata": {},
   "outputs": [
    {
     "name": "stdout",
     "output_type": "stream",
     "text": [
      "10\n",
      "3\n"
     ]
    }
   ],
   "source": [
    "# count function calls\n",
    "\n",
    "def call_counter(func):\n",
    "    def helper(*args, **kwargs):\n",
    "        helper.calls += 1\n",
    "        return func(*args, **kwargs)\n",
    "    helper.calls = 0\n",
    "\n",
    "    return helper\n",
    "\n",
    "@call_counter\n",
    "def succ(x):\n",
    "    return x + 1\n",
    "\n",
    "@call_counter\n",
    "def mul1(x, y=1):\n",
    "    return x*y + 1\n",
    "\n",
    "\n",
    "for i in range(10):\n",
    "    succ(i)\n",
    "mul1(3, 4)\n",
    "mul1(4)\n",
    "mul1(y=3, x=2)\n",
    "    \n",
    "print(succ.calls)\n",
    "print(mul1.calls)"
   ]
  },
  {
   "cell_type": "code",
   "execution_count": 28,
   "metadata": {},
   "outputs": [
    {
     "name": "stdout",
     "output_type": "stream",
     "text": [
      "καλημερα, foo returns:\n",
      "42\n"
     ]
    }
   ],
   "source": [
    "# decorator 带参数\n",
    "\n",
    "def greeting(expr):\n",
    "    def greeting_decorator(func):\n",
    "        def function_wrapper(x):\n",
    "            print(expr + \", \" + func.__name__ + \" returns:\")\n",
    "            func(x)\n",
    "        return function_wrapper\n",
    "    return greeting_decorator\n",
    "\n",
    "@greeting(\"καλημερα\")\n",
    "def foo(x):\n",
    "    print(42)\n",
    "\n",
    "foo(\"Hi\")"
   ]
  },
  {
   "cell_type": "markdown",
   "metadata": {},
   "source": [
    "Decorator 关于class, doc的话题，参阅 http://www.python-course.eu/python3_decorators.php"
   ]
  }
 ],
 "metadata": {
  "kernelspec": {
   "display_name": "Python 3",
   "language": "python",
   "name": "python3"
  },
  "language_info": {
   "codemirror_mode": {
    "name": "ipython",
    "version": 3
   },
   "file_extension": ".py",
   "mimetype": "text/x-python",
   "name": "python",
   "nbconvert_exporter": "python",
   "pygments_lexer": "ipython3",
   "version": "3.5.2"
  }
 },
 "nbformat": 4,
 "nbformat_minor": 2
}
