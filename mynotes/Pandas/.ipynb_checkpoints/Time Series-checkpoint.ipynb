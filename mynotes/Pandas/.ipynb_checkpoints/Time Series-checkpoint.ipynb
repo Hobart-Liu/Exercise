{
 "cells": [
  {
   "cell_type": "code",
   "execution_count": 54,
   "metadata": {
    "collapsed": true,
    "deletable": true,
    "editable": true
   },
   "outputs": [],
   "source": [
    "import pandas as pd\n",
    "import numpy as np\n",
    "from datetime import datetime\n",
    "import time\n",
    "import calendar"
   ]
  },
  {
   "cell_type": "markdown",
   "metadata": {
    "deletable": true,
    "editable": true
   },
   "source": [
    "## DateTime\n",
    "\n",
    "datetime模块定义了两个常量：分别表示datetime所能表示的最 小、最大年份\n",
    "\n",
    "    datetime.MINYEAR = 1\n",
    "    datetime.MAXYEAR = 9999\n",
    "\n",
    "datetime模块定义了下面这几个类：\n",
    "\n",
    "    datetime.date：      表示日期的类。常用的属性有year, month, day\n",
    "    datetime.time：      表示时间的类。常用的属性有hour, minute, second, microsecond\n",
    "    datetime.datetime：  表示日期时间。\n",
    "    datetime.timedelta： 表示时间间隔，即两个时间点之间的长度。\n",
    "    datetime.tzinfo：    与时区有关的相关信息。（参考python手册）\n"
   ]
  },
  {
   "cell_type": "markdown",
   "metadata": {
    "deletable": true,
    "editable": true
   },
   "source": [
    "### date类\n",
    "\n",
    "    date类表示一个日期\n",
    "\n",
    "    class datetime.date(year, month, day)\n",
    "\n",
    "    year的范围是[MINYEAR, MAXYEAR]，即[1, 9999]；\n",
    "    month的范围是[1, 12] （月份是从1开始的，不是从0开始的~_~）；\n",
    "    day的最大值根据给定的year, month参数来决定。例如闰年2月份有29天；\n",
    "\n",
    "date类定义了一些常用的类方法与类属性，方便我们操作：\n",
    "\n",
    "    date.max/min                   date对象所能表示的最大、最小日期；\n",
    "    date.resolution：               date对象表示日期的最小单位。这里是天。\n",
    "    date.today()：                  返回一个表示当前本地日期的date对象；\n",
    "    date.fromtimestamp(timestamp)： 根据给定的时间戮，返回一个date对象；\n",
    "    datetime.fromordinal(ordinal)： 将Gregorian日历时间转换为date对象\n",
    "\n",
    "     \n",
    "\n",
    "date提供的实例方法和属性：\n",
    "\n",
    "    date.year/month/day：            年、月、日；\n",
    "    date.replace(year, month, day): 生成一个新的日期对象，用参数指定的年，月，日代替原有对象中的属性。（原有对象仍保持不变）\n",
    "    date.timetuple()：               返回日期对应的time.struct_time对象；\n",
    "    date.toordinal()：               返回日期对应的Gregorian Calendar日期；\n",
    "    date.weekday()：                 返回weekday，如果是星期一，返回0；如果是星期2，返回1，以此类推；\n",
    "    data.isoweekday()：              返回weekday，如果是星期一，返回1；如果是星期2，返回2，以此类推；\n",
    "    date.isocalendar()：             返回格式如(year, weekofyear, dayofweek)的元组； \n",
    "                                    注意，第二年的头几天可能属于前一年的week 53. \n",
    "    date.isoformat()：               返回格式如'YYYY-MM-DD’的字符串；\n",
    "    date.strftime(fmt)：             自定义格式化字符串。\n",
    "    \n",
    "格式化字符见 https://docs.python.org/3/library/datetime.html#strftime-and-strptime-behavior\n",
    "\n",
    "*另：Pandas 通常用于处理成组的日期，不管这些日期是DataFrame 的轴索引还是列索引，**to_datetime** 可以对格式进行转换。 很重要的一个特性是可以处理日期缺失*\n",
    "\n",
    "\n",
    "date还对某些操作进行了重载，它允许我们对日期进行如下一些操作：\n",
    "\n",
    "    date2 = date1 + timedelta  日期加上一个间隔，返回一个新的日期对象（timedelta将在下面介绍，表示时间间隔）\n",
    "    date2 = date1 - timedelta  日期隔去间隔，返回一个新的日期对象\n",
    "    timedelta = date1 - date2  两个日期相减，返回一个时间间隔对象\n",
    "    date1 < date2              两个日期进行比较\n",
    "    \n",
    "    注： 对日期进行操作时，要防止日期超出它所能表示的范围。\n"
   ]
  },
  {
   "cell_type": "code",
   "execution_count": 47,
   "metadata": {
    "collapsed": false,
    "deletable": true,
    "editable": true
   },
   "outputs": [
    {
     "name": "stdout",
     "output_type": "stream",
     "text": [
      "Now 2017-03-17 20:59:09.758621\n",
      "Now year 2017\n",
      "week of day 5\n",
      "week of day Friday\n",
      "week of day Friday\n",
      "2017 11 5\n",
      "week 11\n"
     ]
    }
   ],
   "source": [
    "now = datetime.now()\n",
    "print(\"Now\", now)\n",
    "print(\"Now year\", now.year)\n",
    "print(\"week of day\", now.isoweekday())\n",
    "print(\"week of day\", now.strftime(\"%A\"))\n",
    "print(\"week of day\", calendar.day_name[now.weekday()])\n",
    "year, weeknumber, weekday = now.isocalendar()\n",
    "print(year, weeknumber, weekday)\n",
    "print(\"week\", now.strftime(\"%V\"))"
   ]
  },
  {
   "cell_type": "code",
   "execution_count": 48,
   "metadata": {
    "collapsed": false
   },
   "outputs": [
    {
     "name": "stdout",
     "output_type": "stream",
     "text": [
      "(%Y-%m-%d %H:%M:%S %f):  2017-03-17 21:05:13 480959\n",
      "(%Y-%m-%d %H:%M:%S %p):  17-03-17 09:05:13 PM\n",
      "%a: Fri \n",
      "%A: Friday \n",
      "%b: Mar \n",
      "%B: March \n",
      "日期时间%c: Fri Mar 17 21:05:13 2017 \n",
      "日期%x：03/17/17 \n",
      "时间%X：21:05:13 \n",
      "今天是这周的第5天 \n",
      "今天是今年的第076天 \n",
      "今周是今年的第11周 \n"
     ]
    }
   ],
   "source": [
    "now = datetime.now()\n",
    "print(   '(%Y-%m-%d %H:%M:%S %f): ' , now.strftime( '%Y-%m-%d %H:%M:%S %f' ) )\n",
    "print(   '(%Y-%m-%d %H:%M:%S %p): ' , now.strftime( '%y-%m-%d %I:%M:%S %p' ) )\n",
    "print(   '%%a: %s '  % now.strftime( '%a' ) )\n",
    "print(   '%%A: %s '  % now.strftime( '%A' ) )\n",
    "print(   '%%b: %s '  % now.strftime( '%b' ) )\n",
    "print(   '%%B: %s '  % now.strftime( '%B' ) )\n",
    "print(   '日期时间%%c: %s '  % now.strftime( '%c' ) )\n",
    "print(   '日期%%x：%s '  % now.strftime( '%x' ) )\n",
    "print(   '时间%%X：%s '  % now.strftime( '%X' ) )\n",
    "print(   '今天是这周的第%s天 '  % now.strftime( '%w' ))\n",
    "print(   '今天是今年的第%s天 '  % now.strftime( '%j' ))\n",
    "print(   '今周是今年的第%s周 '  % now.strftime( '%U' ))\n"
   ]
  },
  {
   "cell_type": "code",
   "execution_count": 53,
   "metadata": {
    "collapsed": false
   },
   "outputs": [
    {
     "name": "stdout",
     "output_type": "stream",
     "text": [
      "datetime.max: 9999-12-31 23:59:59.999999\n",
      "datetime.min: 0001-01-01 00:00:00\n",
      "datetime.resolution: 0:00:00.000001\n",
      "today(): 2017-03-17 21:10:40.380361\n",
      "now(): 2017-03-17 21:10:40.380907\n",
      "utcnow(): 2017-03-17 13:10:40.381336\n",
      "fromtimestamp(tmstmp): 2017-03-17 21:10:40.381624\n",
      "utcfromtimestamp(tmstmp): 2017-03-17 13:10:40.381920\n"
     ]
    }
   ],
   "source": [
    "print( 'datetime.max:', datetime.max )\n",
    "print( 'datetime.min:', datetime.min )\n",
    "print( 'datetime.resolution:', datetime.resolution )\n",
    "print( 'today():', datetime.today() )\n",
    "print( 'now():', datetime.now() )\n",
    "print( 'utcnow():', datetime.utcnow() )\n",
    "print( 'fromtimestamp(tmstmp):', datetime.fromtimestamp(time.time()))\n",
    "print( 'utcfromtimestamp(tmstmp):', datetime.utcfromtimestamp(time.time()))"
   ]
  },
  {
   "cell_type": "code",
   "execution_count": 4,
   "metadata": {
    "collapsed": false,
    "deletable": true,
    "editable": true
   },
   "outputs": [
    {
     "name": "stdout",
     "output_type": "stream",
     "text": [
      "2011-01-03 00:00:00\n",
      "2011-01-03\n",
      "year 2013 day 1 hour(??? default set) 0\n",
      "2011-11-03 00:00:00\n",
      "1997-01-31 22:45:00\n",
      "2011-12-06 00:00:00\n"
     ]
    }
   ],
   "source": [
    "# datetime 转换成时间格式，比较方便，datetime, 本身有指定。\n",
    "# 带格式转换更常用。'%Y-%m-%d'\n",
    "stamp = datetime(2011, 1, 3)\n",
    "print(stamp)    # 同 print(str(stamp))\n",
    "print(stamp.strftime('%Y-%m-%d'))\n",
    "\n",
    "# 字符串转时间，如果格式比较规整，则可以直接转。\n",
    "value = '2013-1-1'\n",
    "d = datetime.strptime(value, '%Y-%m-%d')\n",
    "print(\"year\", d.year, \"day\", d.day, \"hour(??? default set)\", d.hour)\n",
    "\n",
    "# dateutil 更常用于字符串转时间\n",
    "from dateutil.parser import parse\n",
    "d = parse('2011-11-03'); print(d)\n",
    "d = parse('Jan 31, 1997 10:45 PM'); print(d)\n",
    "d = parse('6/12/2011', dayfirst=True); print(d)\n"
   ]
  },
  {
   "cell_type": "code",
   "execution_count": 6,
   "metadata": {
    "collapsed": false,
    "deletable": true,
    "editable": true
   },
   "outputs": [
    {
     "name": "stdout",
     "output_type": "stream",
     "text": [
      "<class 'pandas.tseries.index.DatetimeIndex'>\n",
      "DatetimeIndex(['2015-07-06', '2016-08-12'], dtype='datetime64[ns]', freq=None)\n",
      "DatetimeIndex(['2015-07-06', '2016-08-12', 'NaT'], dtype='datetime64[ns]', freq=None)\n"
     ]
    },
    {
     "data": {
      "text/plain": [
       "array([False, False,  True], dtype=bool)"
      ]
     },
     "execution_count": 6,
     "metadata": {},
     "output_type": "execute_result"
    }
   ],
   "source": [
    "datestrs = ['7/6/2015', '8/12/2016']\n",
    "idx = pd.to_datetime(datestrs)\n",
    "print(type(idx))  # shall be DattimeIndex\n",
    "print(idx)\n",
    "idx = pd.to_datetime(datestrs+[None])\n",
    "print(idx)   # there is NaT at tail\n",
    "pd.isnull(idx)"
   ]
  },
  {
   "cell_type": "markdown",
   "metadata": {
    "deletable": true,
    "editable": true
   },
   "source": [
    "### Time类\n",
    "\n",
    "time类表示时间，由时、分、秒以及微秒组成。\n",
    "\n",
    "    class datetime.time(hour[ , minute[ , second[ , microsecond[ , tzinfo] ] ] ] ) ：\n",
    "    这里留意一下参数tzinfo，它表示时区信息。\n",
    "    注意一下各参数的取值范围：\n",
    "    hour的范围为[0, 24)，\n",
    "    minute的范围为[0, 60)，\n",
    "    second的范围为[0, 60)，\n",
    "    microsecond的范围为[0, 1000000)。\n",
    "\n",
    "time类定义的类属性：\n",
    "\n",
    "    time.min/max：    time类所能表示的最小、最大时间。\n",
    "                     time.min = time(0, 0, 0, 0)\n",
    "                     time.max = time(23, 59, 59, 999999)；\n",
    "    time.resolution： 时间的最小单位，这里是1微秒；\n",
    "\n",
    "    time类提供的实例方法和属性：\n",
    "\n",
    "    time.hour/minute/second/microsecond：  时、分、秒、微秒；\n",
    "    time.tzinfo：                          时区信息；\n",
    "    time.replace([ hour[ , minute[ , second[ , microsecond[ , tzinfo] ] ] ] ] )：\n",
    "                                          创建一个新的时间对象，用参数指定的时、分、秒、微秒代替原有对象中的属性（原有对象仍保持不变）；\n",
    "    time.isoformat()：                     返回型如\"HH:MM:SS\"格式的字符串表示；\n",
    "    time.strftime(fmt)：                   返回自定义格式化字符串。在下面详细介绍；\n",
    "\n",
    "\n",
    "像date一样，也可以对两个time对象进行比较，或者相减返回一个时间间隔对象\n"
   ]
  },
  {
   "cell_type": "markdown",
   "metadata": {
    "deletable": true,
    "editable": true
   },
   "source": [
    "### datetime类\n",
    "\n",
    "datetime是date与time的结合体，包括date与time的所有信息。\n",
    "\n",
    "    datetime.datetime (year, month, day[ , hour[ , minute[ , second[ , microsecond[ , tzinfo] ] ] ] ] )\n",
    "\n",
    "datetime类定义的类属性与方法：\n",
    "\n",
    "    datetime.min/max：                        datetime所能表示的最小值与最大值；\n",
    "    datetime.resolution：                     datetime最小单位；\n",
    "    datetime.today()：                        返回一个表示当前本地时间的datetime对象；\n",
    "    datetime.now([tz])：                      返回一个表示当前本地时间的datetime对象，如果提供了参数tz，则获取tz参数所指时区的本地时间；\n",
    "    datetime.utcnow()：                       返回一个当前utc时间的datetime对象；\n",
    "    datetime.fromtimestamp(timestamp[, tz])： 根据时间戮创建一个datetime对象，参数tz指定时区信息；\n",
    "    datetime.utcfromtimestamp(timestamp)：    根据时间戮创建一个datetime对象；\n",
    "    datetime.combine(date, time)：            根据date和time，创建一个datetime对象；\n",
    "    datetime.strptime(date_string, format)：  将格式字符串转换为datetime对象；\n",
    "\n",
    "\n",
    "datetime类提供的实例方法与属性 （很多属性或方法在date和time中已经出现过，在此有类似的意义，这里只罗列这些方法名，）：\n",
    "\n",
    "    datetime.year、month、day、hour、minute、second、microsecond、tzinfo：\n",
    "    datetime.date()：\n",
    "    datetime.time()：\n",
    "    datetime.replace ([ year[ , month[ , day[ , hour[ , minute[ , second[ , microsecond[ , tzinfo] ] ] ] ] ] ] ])：\n",
    "    datetime.timetuple ()\n",
    "    datetime.utctimetuple ()\n",
    "    datetime.toordinal ()\n",
    "    datetime.weekday ()\n",
    "    datetime.isocalendar ()\n",
    "    datetime.isoformat ([ sep] )\n",
    "    datetime.ctime ()：                 返回一个日期时间的C格式字符串，等效于time.ctime(time.mktime(dt.timetuple()))；\n",
    "    datetime.strftime (format)\n",
    "\n",
    "像date一样，也可以对两个datetime对象进行比较，或者相减返回一个时间间隔对象，或者日期时间加上一个间隔返回一个新的日期时间对象\n",
    "\n",
    "格式字符串\n",
    "\n",
    "datetime、date、time都提供了strftime()方法，该方法接收一个格式字符串，输出日期时间的字符串表示。\n",
    "\n",
    "    格式字符  意义\n",
    "\n",
    "    %a   星期的简写。如 星期三为Web\n",
    "    %A   星期的全写。如 星期三为Wednesday\n",
    "    %b   月份的简写。如4月份为Apr\n",
    "    %B   月份的全写。如4月份为April \n",
    "    %c:  日期时间的字符串表示。（如： 04/07/10 10:43:39）\n",
    "    %d:  日在这个月中的天数（是这个月的第几天）\n",
    "    %f:  微秒（范围[0,999999]）\n",
    "    %H:  小时（24小时制，[0, 23]）\n",
    "    %I:  小时（12小时制，[0, 11]）\n",
    "    %j:  日在年中的天数 [001,366]（是当年的第几天）\n",
    "    %m:  月份（[01,12]）\n",
    "    %M:  分钟（[00,59]）\n",
    "    %p:  AM或者PM\n",
    "    %S:  秒（范围为[00,61]，为什么不是[00, 59]，参考python手册~_~）\n",
    "    %U:  周在当年的周数当年的第几周），星期天作为周的第一天\n",
    "    %w:  今天在这周的天数，范围为[0, 6]，6表示星期天\n",
    "    %W:  周在当年的周数（是当年的第几周），星期一作为周的第一天\n",
    "    %x:  日期字符串（如：04/07/10）\n",
    "    %X:  时间字符串（如：10:43:39）\n",
    "    %y:  2个数字表示的年份\n",
    "    %Y:  4个数字表示的年份\n",
    "    %z:  与utc时间的间隔 （如果是本地时间，返回空字符串）\n",
    "    %Z:  时区名称（如果是本地时间，返回空字符串）\n",
    "    %%:  %% => %"
   ]
  },
  {
   "cell_type": "markdown",
   "metadata": {},
   "source": [
    "### Time Series"
   ]
  },
  {
   "cell_type": "code",
   "execution_count": 44,
   "metadata": {
    "collapsed": false,
    "deletable": true,
    "editable": true
   },
   "outputs": [
    {
     "name": "stdout",
     "output_type": "stream",
     "text": [
      "ts content\n",
      " 2011-01-02    1.677894\n",
      "2011-01-05   -3.176939\n",
      "2011-01-07   -0.938694\n",
      "2011-01-08   -0.368459\n",
      "2011-01-10    0.776427\n",
      "2011-01-12    0.615356\n",
      "dtype: float64 \n",
      "\n",
      "Type of ts <class 'pandas.core.series.Series'>\n",
      "Type of ts index <class 'pandas.tseries.index.DatetimeIndex'>\n"
     ]
    }
   ],
   "source": [
    "# 构建一个以日期为索引的数据集。\n",
    "dates = [datetime(2011, 1, 2), datetime(2011, 1,5), datetime(2011, 1, 7), datetime(2011, 1,8), datetime(2011, 1,10), datetime(2011, 1, 12)]\n",
    "ts = pd.Series(np.random.randn(6), index = dates)\n",
    "print(\"ts content\\n\", ts, \"\\n\")\n",
    "print(\"Type of ts\", type(ts))\n",
    "print(\"Type of ts index\", type(ts.index))"
   ]
  },
  {
   "cell_type": "code",
   "execution_count": 45,
   "metadata": {
    "collapsed": false
   },
   "outputs": [
    {
     "data": {
      "text/plain": [
       "2011-01-02    1.677894\n",
       "2011-01-03         NaN\n",
       "2011-01-04         NaN\n",
       "2011-01-05   -3.176939\n",
       "2011-01-06         NaN\n",
       "2011-01-07   -0.938694\n",
       "2011-01-08   -0.368459\n",
       "2011-01-09         NaN\n",
       "2011-01-10    0.776427\n",
       "2011-01-11         NaN\n",
       "2011-01-12    0.615356\n",
       "Freq: D, dtype: float64"
      ]
     },
     "execution_count": 45,
     "metadata": {},
     "output_type": "execute_result"
    }
   ],
   "source": [
    "# 日期补全\n",
    "ts.resample('D').asfreq()"
   ]
  },
  {
   "cell_type": "code",
   "execution_count": 13,
   "metadata": {
    "collapsed": false,
    "deletable": true,
    "editable": true
   },
   "outputs": [
    {
     "name": "stdout",
     "output_type": "stream",
     "text": [
      "2011-01-02    0.550696\n",
      "2011-01-07   -1.227990\n",
      "2011-01-10    1.024946\n",
      "dtype: float64 \n",
      "\n",
      "2011-01-02    1.101392\n",
      "2011-01-05         NaN\n",
      "2011-01-07   -2.455980\n",
      "2011-01-08         NaN\n",
      "2011-01-10    2.049892\n",
      "2011-01-12         NaN\n",
      "dtype: float64\n"
     ]
    }
   ],
   "source": [
    "# ts 的操作是按索引对齐的\n",
    "print(ts[::2], \"\\n\")\n",
    "print(ts + ts[::2])  #由于ts[::2] 只有3列，则只有这3列进行了运算"
   ]
  },
  {
   "cell_type": "code",
   "execution_count": 16,
   "metadata": {
    "collapsed": false,
    "deletable": true,
    "editable": true
   },
   "outputs": [
    {
     "name": "stdout",
     "output_type": "stream",
     "text": [
      "2011-01-02 00:00:00\n",
      "0.550696228949\n",
      "0.550696228949\n",
      "0.550696228949\n",
      "2011-01-07   -1.227990\n",
      "2011-01-08    0.111248\n",
      "2011-01-10    1.024946\n",
      "2011-01-12    0.132325\n",
      "dtype: float64\n",
      "2011-01-07   -1.227990\n",
      "2011-01-08    0.111248\n",
      "2011-01-10    1.024946\n",
      "dtype: float64\n",
      "2011-01-02    0.550696\n",
      "2011-01-05    1.941779\n",
      "2011-01-07   -1.227990\n",
      "2011-01-08    0.111248\n",
      "dtype: float64\n"
     ]
    }
   ],
   "source": [
    "stamp = ts.index[0]\n",
    "print(stamp)\n",
    "print(ts[stamp])\n",
    "print(ts['2011/01/02'])\n",
    "print(ts['20110102'])\n",
    "print(ts[datetime(2011,1,7):])  #切片只对Series有效\n",
    "print(ts['1/6/2011':'1/11/2011']) # 如果时间序列数据是按时间排列的，因此你可以用不存在于该时间序列中的时间戳对其进行切片（即查询范围）\n",
    "print(ts.truncate(after = '1/9/2011'))"
   ]
  },
  {
   "cell_type": "code",
   "execution_count": 17,
   "metadata": {
    "collapsed": false
   },
   "outputs": [
    {
     "name": "stdout",
     "output_type": "stream",
     "text": [
      "2001-01-01   -0.530204\n",
      "2001-01-02    0.550254\n",
      "2001-01-03    0.027720\n",
      "2001-01-04    0.492169\n",
      "2001-01-05    0.263610\n",
      "Freq: D, dtype: float64\n",
      "2001-12-27   -1.142629\n",
      "2001-12-28   -1.414808\n",
      "2001-12-29   -0.855997\n",
      "2001-12-30    1.157519\n",
      "2001-12-31    2.311698\n",
      "Freq: D, dtype: float64\n",
      "2001-05-01    0.211688\n",
      "2001-05-02   -0.954787\n",
      "2001-05-03    1.188087\n",
      "2001-05-04    0.680145\n",
      "2001-05-05    1.124810\n",
      "Freq: D, dtype: float64\n",
      "2001-05-27    0.829648\n",
      "2001-05-28   -1.266136\n",
      "2001-05-29    0.387319\n",
      "2001-05-30   -0.106521\n",
      "2001-05-31    0.970130\n",
      "Freq: D, dtype: float64\n"
     ]
    }
   ],
   "source": [
    "# 使用索引， 可以用'年', '年月‘直接对datetime index进行筛选\n",
    "longer_ts = pd.Series(np.random.randn(1000), index=pd.date_range('1/1/2000', periods=1000))\n",
    "ts2001 = longer_ts['2001']\n",
    "print(ts2001.head())\n",
    "print(ts2001.tail())\n",
    "ts_may = longer_ts['2001-05']\n",
    "print(ts_may.head())\n",
    "print(ts_may.tail())"
   ]
  },
  {
   "cell_type": "markdown",
   "metadata": {
    "deletable": true,
    "editable": true
   },
   "source": [
    "### Period 类\n",
    "时期(Period)类表示的是时间区间，其构造函数需要用到一个时间的表达，和频率表达。 可以用+/-表达对时间的偏移。\n",
    "\n",
    "    p = pd.Period('2007', freq='A-DEC') # 2007年整年\n",
    "    p + 5                               # 2012年整年\n",
    "\n",
    "** 使用Pandas方法，**\n",
    "Pandas 中频率有一个基础频率和一个乘数组成，基础频率通常一个字符串表示，'M', 'H'.‘H’ 一个小时 '4H' 则是四个小时, '2h30min' 也可以被用于表达频率.'WOM-3FRI' 每月第三个星期五。 http://pandas.pydata.org/pandas-docs/stable/timeseries.html#timeseries-offset-aliases\n",
    "\n",
    "\n",
    "    period_range('1/1/2000','6/30/2000', freq='M')\n",
    "                                  产生一个范围\n",
    "    p.asfreq('M', how='start')    频率转换\n",
    "    to_period:                    将Timestamp转换成频率，及其反向\n",
    "    resample                      将时间序列从一个频率转换到另一个频率。 \n",
    "                                  freq = 重采样的频率 DateOffset 如: 'M', '5min'或Second(15)\n",
    "                                  how = 用于产生聚合值的函数名或数组函数，例如'mean','ohlc', np.max等，\n",
    "                                        常用的有first, last, median, ohlc, max, min\n",
    "                                  axis = 采样的轴，默认为0\n",
    "                                  fill_method = 升采样时如何插值， ffill, bfill 默认不插值\n",
    "                                  closed = 降采样中，各时间段的那一段是闭合的， 'right' or 'left'。\n",
    "                                  \n"
   ]
  },
  {
   "cell_type": "code",
   "execution_count": 26,
   "metadata": {
    "collapsed": false,
    "deletable": true,
    "editable": true
   },
   "outputs": [
    {
     "name": "stdout",
     "output_type": "stream",
     "text": [
      "               CityA     CityB     CityC     CityD\n",
      "2000-01-05 -1.145062  1.377813  2.239724  1.737490\n",
      "2000-01-12 -2.847373 -1.604033  0.944706 -0.107888\n",
      "2000-01-19  1.682714 -0.278113  1.343658  0.680478\n",
      "2000-01-26  0.418800  2.584666  1.205193  2.030647\n",
      "2000-02-02  0.948380 -1.841159  0.089230  2.893110\n",
      "2000-02-09 -0.597015 -0.346863  1.206448  0.107208\n",
      "               CityA     CityB     CityC     CityD\n",
      "2000-02-02  0.948380 -1.841159  0.089230  2.893110\n",
      "2000-02-09 -0.597015 -0.346863  1.206448  0.107208\n",
      "DatetimeIndex(['2000-01-31', '2000-02-29', '2000-03-31', '2000-04-28',\n",
      "               '2000-05-31', '2000-06-30', '2000-07-31', '2000-08-31',\n",
      "               '2000-09-29', '2000-10-31', '2000-11-30'],\n",
      "              dtype='datetime64[ns]', freq='BM')\n",
      "DatetimeIndex(['2005-05-02 12:56:31', '2005-05-03 12:56:31',\n",
      "               '2005-05-04 12:56:31', '2005-05-05 12:56:31',\n",
      "               '2005-05-06 12:56:31'],\n",
      "              dtype='datetime64[ns]', freq='D')\n",
      "DatetimeIndex(['2005-05-02', '2005-05-03', '2005-05-04', '2005-05-05',\n",
      "               '2005-05-06'],\n",
      "              dtype='datetime64[ns]', freq='D')\n"
     ]
    }
   ],
   "source": [
    "# 每周三，连续6周。\n",
    "dates = pd.date_range('1/1/2000', periods=6, freq = 'W-WED')\n",
    "long_df = pd.DataFrame(np.random.randn(6,4), index=dates, columns=['CityA', 'CityB', 'CityC', 'CityD'])\n",
    "print(long_df)\n",
    "print(long_df.ix['2-2000'])  # 只取二月的数据 \n",
    "# 产生一个有每月最后一个工作日组成的时间索引,可以用'BM'频率 (Business end of Month)\n",
    "print(pd.date_range('1/1/2000', '12/1/2000', freq='BM'))\n",
    "# normalize 到午夜的时间戳\n",
    "print(pd.date_range('5/2/2005 12:56:31', periods=5))\n",
    "print(pd.date_range('5/2/2005 12:56:31', periods=5, normalize=True))"
   ]
  },
  {
   "cell_type": "markdown",
   "metadata": {},
   "source": [
    "** 在Time Series学习中，常常对时间系列数据作shift。**"
   ]
  },
  {
   "cell_type": "code",
   "execution_count": 37,
   "metadata": {
    "collapsed": false
   },
   "outputs": [
    {
     "name": "stdout",
     "output_type": "stream",
     "text": [
      "2000-01-31   -0.914056\n",
      "2000-02-29    0.154396\n",
      "2000-03-31   -0.620854\n",
      "2000-04-30    0.872858\n",
      "Freq: M, dtype: float64\n",
      "2000-01-31         NaN\n",
      "2000-02-29         NaN\n",
      "2000-03-31   -0.914056\n",
      "2000-04-30    0.154396\n",
      "Freq: M, dtype: float64\n",
      "2000-01-31   -0.620854\n",
      "2000-02-29    0.872858\n",
      "2000-03-31         NaN\n",
      "2000-04-30         NaN\n",
      "Freq: M, dtype: float64\n"
     ]
    }
   ],
   "source": [
    "ts = pd.Series(np.random.randn(4), index = pd.date_range('1/1/2000', periods=4, freq='M'))\n",
    "print(ts)\n",
    "print(ts.shift(2))  #注意，索引没变，但是数据往后移动\n",
    "#print(ts.shift(-2))"
   ]
  },
  {
   "cell_type": "code",
   "execution_count": 40,
   "metadata": {
    "collapsed": false
   },
   "outputs": [
    {
     "name": "stdout",
     "output_type": "stream",
     "text": [
      "2000-01-31   -0.914056\n",
      "2000-02-29    0.154396\n",
      "2000-03-31   -0.620854\n",
      "2000-04-30    0.872858\n",
      "Freq: M, dtype: float64\n",
      "2000-03-31   -0.914056\n",
      "2000-04-30    0.154396\n",
      "2000-05-31   -0.620854\n",
      "2000-06-30    0.872858\n",
      "Freq: M, dtype: float64\n",
      "2000-02-01   -0.914056\n",
      "2000-03-01    0.154396\n",
      "2000-04-01   -0.620854\n",
      "2000-05-01    0.872858\n",
      "Freq: MS, dtype: float64\n"
     ]
    }
   ],
   "source": [
    "# 如需对索引也作修改，则要提供频率信息\n",
    "print(ts)\n",
    "print(ts.shift(2, freq='M'))\n",
    "print(ts.shift(1, freq='D'))"
   ]
  },
  {
   "cell_type": "code",
   "execution_count": 59,
   "metadata": {
    "collapsed": false
   },
   "outputs": [
    {
     "name": "stdout",
     "output_type": "stream",
     "text": [
      "2000-01-01   -0.071237\n",
      "2000-01-02    0.473750\n",
      "2000-01-03    1.155460\n",
      "2000-01-04    0.309570\n",
      "2000-01-05    0.005503\n",
      "Freq: D, dtype: float64\n",
      "2000-01-31    0.182995\n",
      "2000-02-29    0.146524\n",
      "2000-03-31    0.130098\n",
      "2000-04-30   -0.663683\n",
      "Freq: M, dtype: float64\n"
     ]
    }
   ],
   "source": [
    "# 100天重采样（降采样），用平均值\n",
    "rng = pd.date_range('1/1/2000', periods=100, freq='D')\n",
    "ts = pd.Series(np.random.randn(len(rng)), index=rng)\n",
    "print(ts.head())\n",
    "print(ts.resample('M').mean())"
   ]
  },
  {
   "cell_type": "code",
   "execution_count": 69,
   "metadata": {
    "collapsed": false
   },
   "outputs": [
    {
     "name": "stdout",
     "output_type": "stream",
     "text": [
      "2000-01-01 00:00:00    10\n",
      "2000-01-01 00:05:00    35\n",
      "2000-01-01 00:10:00    21\n",
      "Freq: 5T, dtype: int64\n",
      "1999-12-31 23:55:00     0\n",
      "2000-01-01 00:00:00    15\n",
      "2000-01-01 00:05:00    40\n",
      "2000-01-01 00:10:00    11\n",
      "Freq: 5T, dtype: int64\n",
      "2000-01-01 00:00:00     0\n",
      "2000-01-01 00:05:00    15\n",
      "2000-01-01 00:10:00    40\n",
      "2000-01-01 00:15:00    11\n",
      "Freq: 5T, dtype: int64\n",
      "                     open  high  low  close\n",
      "2000-01-01 00:00:00     0     4    0      4\n",
      "2000-01-01 00:05:00     5     9    5      9\n",
      "2000-01-01 00:10:00    10    11   10     11\n"
     ]
    }
   ],
   "source": [
    "# 产生12个1分钟数据\n",
    "rng = pd.date_range('1/1/2000', periods=12, freq='T')\n",
    "ts = pd.Series(np.arange(12), index=rng)\n",
    "# 融合到5分钟的时间间隔中去。\n",
    "print(ts.resample('5min', closed='left').sum())\n",
    "print(ts.resample('5min', closed='right').sum())\n",
    "print(ts.resample('5min', closed='right', label='right').sum())\n",
    "print(ts.resample('5min').ohlc())"
   ]
  },
  {
   "cell_type": "code",
   "execution_count": 76,
   "metadata": {
    "collapsed": false
   },
   "outputs": [
    {
     "name": "stdout",
     "output_type": "stream",
     "text": [
      "               CityA     CityB     CityC     CityD\n",
      "2000-01-05 -0.160833 -0.182340  1.203446  0.993686\n",
      "2000-01-12 -0.150515 -0.792713  1.637042  0.110697\n",
      "               CityA     CityB     CityC     CityD\n",
      "2000-01-05 -0.160833 -0.182340  1.203446  0.993686\n",
      "2000-01-06       NaN       NaN       NaN       NaN\n",
      "2000-01-07       NaN       NaN       NaN       NaN\n",
      "2000-01-08       NaN       NaN       NaN       NaN\n",
      "2000-01-09       NaN       NaN       NaN       NaN\n",
      "2000-01-10       NaN       NaN       NaN       NaN\n",
      "2000-01-11       NaN       NaN       NaN       NaN\n",
      "2000-01-12 -0.150515 -0.792713  1.637042  0.110697\n",
      "               CityA     CityB     CityC     CityD\n",
      "2000-01-05 -0.160833 -0.182340  1.203446  0.993686\n",
      "2000-01-06 -0.160833 -0.182340  1.203446  0.993686\n",
      "2000-01-07 -0.160833 -0.182340  1.203446  0.993686\n",
      "2000-01-08 -0.160833 -0.182340  1.203446  0.993686\n",
      "2000-01-09 -0.160833 -0.182340  1.203446  0.993686\n",
      "2000-01-10 -0.160833 -0.182340  1.203446  0.993686\n",
      "2000-01-11 -0.160833 -0.182340  1.203446  0.993686\n",
      "2000-01-12 -0.150515 -0.792713  1.637042  0.110697\n",
      "               CityA     CityB     CityC     CityD\n",
      "2000-01-05 -0.160833 -0.182340  1.203446  0.993686\n",
      "2000-01-06 -0.160833 -0.182340  1.203446  0.993686\n",
      "2000-01-07 -0.160833 -0.182340  1.203446  0.993686\n",
      "2000-01-08       NaN       NaN       NaN       NaN\n",
      "2000-01-09       NaN       NaN       NaN       NaN\n",
      "2000-01-10       NaN       NaN       NaN       NaN\n",
      "2000-01-11       NaN       NaN       NaN       NaN\n",
      "2000-01-12 -0.150515 -0.792713  1.637042  0.110697\n"
     ]
    }
   ],
   "source": [
    "# 升采样填充值\n",
    "frame = pd.DataFrame(np.random.randn(2,4),\n",
    "                    index=pd.date_range('1/1/2000', periods=2, freq='W-WED'),\n",
    "                    columns=['CityA', 'CityB','CityC','CityD'])\n",
    "\n",
    "print(frame.tail())\n",
    "df_daily = frame.resample('D')\n",
    "print(df_daily.asfreq())\n",
    "print(df_daily.ffill())\n",
    "print(df_daily.ffill(limit=2))"
   ]
  },
  {
   "cell_type": "markdown",
   "metadata": {},
   "source": [
    "### 时间序列绘图\n"
   ]
  },
  {
   "cell_type": "code",
   "execution_count": 92,
   "metadata": {
    "collapsed": false
   },
   "outputs": [
    {
     "name": "stdout",
     "output_type": "stream",
     "text": [
      "             AAA   BBB   CCC\n",
      "2000-08-04  91.0  45.0  30.0\n",
      "2000-08-07  36.0  76.0   8.0\n",
      "2000-08-08  85.0  23.0  12.0\n",
      "2000-08-09  40.0   4.0  37.0\n",
      "2000-08-10  30.0  95.0  17.0\n"
     ]
    },
    {
     "data": {
      "image/png": "[encoded data removed]",
      "text/plain": [
       "<matplotlib.figure.Figure at 0x7f521aeefa20>"
      ]
     },
     "metadata": {},
     "output_type": "display_data"
    }
   ],
   "source": [
    "import matplotlib.pyplot as plt\n",
    "close_px_all = pd.read_csv('stock_px.csv', parse_dates=True, index_col=0)\n",
    "close_px = close_px_all[['AAA', 'BBB', 'CCC']]\n",
    "close_px = close_px.resample('B').ffill()\n",
    "print(close_px.tail())\n",
    "close_px['AAA'].plot()\n",
    "plt.show()"
   ]
  },
  {
   "cell_type": "code",
   "execution_count": null,
   "metadata": {
    "collapsed": true
   },
   "outputs": [],
   "source": []
  }
 ],
 "metadata": {
  "kernelspec": {
   "display_name": "Python 3",
   "language": "python",
   "name": "python3"
  },
  "language_info": {
   "codemirror_mode": {
    "name": "ipython",
    "version": 3
   },
   "file_extension": ".py",
   "mimetype": "text/x-python",
   "name": "python",
   "nbconvert_exporter": "python",
   "pygments_lexer": "ipython3",
   "version": "3.5.2"
  }
 },
 "nbformat": 4,
 "nbformat_minor": 2
}
