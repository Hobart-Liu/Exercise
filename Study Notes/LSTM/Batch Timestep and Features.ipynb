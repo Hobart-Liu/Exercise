{
 "cells": [
  {
   "cell_type": "markdown",
   "metadata": {
    "deletable": true,
    "editable": true
   },
   "source": [
    "This is an example to help understand what how to define **[batch, time_steps, features]**\n",
    "\n",
    "> if X1 and X2 are successive batches of samples, then X2[i] is the follow-up sequence to X1[i], for every i"
   ]
  },
  {
   "cell_type": "code",
   "execution_count": 1,
   "metadata": {
    "collapsed": false,
    "deletable": true,
    "editable": true
   },
   "outputs": [
    {
     "name": "stdout",
     "output_type": "stream",
     "text": [
      "Sequence:  a  b  c  d  e  f  g  h  i  j  k  l  m  n  o  p  q  r  s  t  u  v  w  x  y  z  1  2  3  4  5  6\n",
      "BATCH 0.0\n",
      "\tsequence 0 of batch:\n",
      "a\n",
      "b\n",
      "c\n",
      "d\n",
      "\n",
      "\tsequence 1 of batch:\n",
      "q\n",
      "r\n",
      "s\n",
      "t\n",
      "\n",
      "BATCH 1.0\n",
      "\tsequence 0 of batch:\n",
      "e\n",
      "f\n",
      "g\n",
      "h\n",
      "\n",
      "\tsequence 1 of batch:\n",
      "u\n",
      "v\n",
      "w\n",
      "x\n",
      "\n",
      "BATCH 2.0\n",
      "\tsequence 0 of batch:\n",
      "i\n",
      "j\n",
      "k\n",
      "l\n",
      "\n",
      "\tsequence 1 of batch:\n",
      "y\n",
      "z\n",
      "1\n",
      "2\n",
      "\n",
      "BATCH 3.0\n",
      "\tsequence 0 of batch:\n",
      "m\n",
      "n\n",
      "o\n",
      "p\n",
      "\n",
      "\tsequence 1 of batch:\n",
      "3\n",
      "4\n",
      "5\n",
      "6\n",
      "\n"
     ]
    }
   ],
   "source": [
    "T = ['a','b','c','d','e','f','g','h','i','j','k','l','m','n','o','p','q','r','s','t','u','v','w','x','y', 'z','1','2','3','4','5','6']\n",
    "\n",
    "SEQ_LEN = 4\n",
    "BATCH_SIZE = 2\n",
    "BATCH_CHARS  = int(len(T) / BATCH_SIZE)\n",
    "\n",
    "x = [[0,0,0,0],[0,0,0,0]]\n",
    "\n",
    "print(\"Sequence: \", '  '.join(str(c) for c in T))\n",
    "for i in range(0, BATCH_CHARS - SEQ_LEN +1, SEQ_LEN):\n",
    "    print('BATCH', i/SEQ_LEN)\n",
    "    for batch_idx in range(BATCH_SIZE):\n",
    "        start = batch_idx * BATCH_CHARS + i\n",
    "        print('\\tsequence', batch_idx, 'of batch:',)\n",
    "        for j in range(SEQ_LEN):\n",
    "            x[batch_idx][j] = T[start+j]\n",
    "            print(T[start+j],)\n",
    "    #here we would yield x (the batch) if this were an iterator\n",
    "        print()\n"
   ]
  },
  {
   "cell_type": "code",
   "execution_count": 7,
   "metadata": {
    "collapsed": false,
    "deletable": true,
    "editable": true
   },
   "outputs": [],
   "source": [
    "import numpy \n",
    "t = numpy.reshape(T, (2,4,4))"
   ]
  },
  {
   "cell_type": "code",
   "execution_count": 11,
   "metadata": {
    "collapsed": false,
    "deletable": true,
    "editable": true
   },
   "outputs": [
    {
     "name": "stdout",
     "output_type": "stream",
     "text": [
      "['a' 'b' 'c' 'd']\n",
      "['q' 'r' 's' 't']\n"
     ]
    }
   ],
   "source": [
    "print(t[0][0])\n",
    "print(t[1][0])"
   ]
  },
  {
   "cell_type": "markdown",
   "metadata": {
    "collapsed": true,
    "deletable": true,
    "editable": true
   },
   "source": [
    "The logic goes roughly like this:\n",
    "\n",
    "    BatchSize = 5\n",
    "    sequences = [ X[I::BatchSize] for I in xrange(BatchSize) ]\n",
    "    batches   = [ sequences[:, N] for N in xrange(X.shape[0]/BatchSize) ]\n",
    "    sequences[0] == [0, 5, 10, …]\n",
    "    sequences[1] == [1, 6, 11, …]\n",
    "    sequences[2] == [2, 7, 12, …]\n",
    "    sequences[3] == [3, 8, 13, …]\n",
    "    sequences[4] == [4, 9, 14, …]\n",
    "\n",
    "    batches[0] == [ 0,  1,  2,  3,  4]\n",
    "    batches[1] == [ 5,  6,  7,  8,  9]\n",
    "    batches[2] == [10, 11, 12, 13, 14]"
   ]
  },
  {
   "cell_type": "raw",
   "metadata": {},
   "source": []
  }
 ],
 "metadata": {
  "kernelspec": {
   "display_name": "Python 3",
   "language": "python",
   "name": "python3"
  },
  "language_info": {
   "codemirror_mode": {
    "name": "ipython",
    "version": 3
   },
   "file_extension": ".py",
   "mimetype": "text/x-python",
   "name": "python",
   "nbconvert_exporter": "python",
   "pygments_lexer": "ipython3",
   "version": "3.5.2"
  }
 },
 "nbformat": 4,
 "nbformat_minor": 2
}
